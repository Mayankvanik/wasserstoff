{
 "cells": [
  {
   "cell_type": "code",
   "execution_count": 17,
   "metadata": {},
   "outputs": [
    {
     "name": "stdout",
     "output_type": "stream",
     "text": [
      "Collecting lxml\n",
      "  Downloading lxml-5.2.2-cp311-cp311-win_amd64.whl (3.8 MB)\n",
      "     ---------------------------------------- 3.8/3.8 MB 10.6 MB/s eta 0:00:00\n",
      "Installing collected packages: lxml\n",
      "Successfully installed lxml-5.2.2\n"
     ]
    },
    {
     "name": "stderr",
     "output_type": "stream",
     "text": [
      "\n",
      "[notice] A new release of pip available: 22.3 -> 24.0\n",
      "[notice] To update, run: python.exe -m pip install --upgrade pip\n"
     ]
    }
   ],
   "source": [
    "!pip install lxml"
   ]
  },
  {
   "cell_type": "code",
   "execution_count": 1,
   "metadata": {},
   "outputs": [
    {
     "ename": "AttributeError",
     "evalue": "'str' object has no attribute 'status_code'",
     "output_type": "error",
     "traceback": [
      "\u001b[1;31m---------------------------------------------------------------------------\u001b[0m",
      "\u001b[1;31mAttributeError\u001b[0m                            Traceback (most recent call last)",
      "Cell \u001b[1;32mIn[1], line 18\u001b[0m\n\u001b[0;32m     15\u001b[0m \u001b[38;5;28;01mwhile\u001b[39;00m \u001b[38;5;28;01mTrue\u001b[39;00m:\n\u001b[0;32m     16\u001b[0m     \u001b[38;5;66;03m# Authenticate with WordPress REST API\u001b[39;00m\n\u001b[0;32m     17\u001b[0m     auth_response \u001b[38;5;241m=\u001b[39m requests\u001b[38;5;241m.\u001b[39mget(\u001b[38;5;124mf\u001b[39m\u001b[38;5;124m'\u001b[39m\u001b[38;5;132;01m{\u001b[39;00mwp_api_url\u001b[38;5;132;01m}\u001b[39;00m\u001b[38;5;124m/token\u001b[39m\u001b[38;5;124m'\u001b[39m, headers\u001b[38;5;241m=\u001b[39mheaders)\u001b[38;5;241m.\u001b[39mtext\u001b[38;5;66;03m#, auth=(username, password)\u001b[39;00m\n\u001b[1;32m---> 18\u001b[0m     \u001b[38;5;28;01mif\u001b[39;00m \u001b[43mauth_response\u001b[49m\u001b[38;5;241;43m.\u001b[39;49m\u001b[43mstatus_code\u001b[49m \u001b[38;5;241m==\u001b[39m \u001b[38;5;241m200\u001b[39m:\n\u001b[0;32m     19\u001b[0m         token \u001b[38;5;241m=\u001b[39m auth_response\u001b[38;5;241m.\u001b[39mjson()[\u001b[38;5;124m'\u001b[39m\u001b[38;5;124mtoken\u001b[39m\u001b[38;5;124m'\u001b[39m]\n\u001b[0;32m     20\u001b[0m     \u001b[38;5;28;01melse\u001b[39;00m:\n",
      "\u001b[1;31mAttributeError\u001b[0m: 'str' object has no attribute 'status_code'"
     ]
    }
   ],
   "source": [
    "import requests\n",
    "import time\n",
    "from bs4 import BeautifulSoup\n",
    "\n",
    "# WordPress REST API endpoint URL\n",
    "wp_api_url = 'https://elementor.com/blog/famous-wordpress-websites/'\n",
    "\n",
    "# Set API credentials (username and password)\n",
    "username = 'your_username'\n",
    "password = 'your_password'\n",
    "\n",
    "# Set the interval for fetching new content (in seconds)\n",
    "fetch_interval = 60  # 1 minute\n",
    "headers = {'User-Agent': 'Mozilla/5.0 (platform; rv:geckoversion) Gecko/geckotrail Firefox/firefoxversion'}\n",
    "while True:\n",
    "    # Authenticate with WordPress REST API\n",
    "    auth_response = requests.get(f'{wp_api_url}/token', headers=headers).text#, auth=(username, password)\n",
    "    if auth_response.status_code == 200:\n",
    "        token = auth_response.json()['token']\n",
    "    else:\n",
    "        print('Authentication failed')\n",
    "        break\n",
    "\n",
    "    # Set the API endpoint for fetching new content\n",
    "    endpoint = f'{wp_api_url}/posts?status=publish&_embed'\n",
    "\n",
    "    # Set the headers with the authentication token\n",
    "    headers = {'Authorization': f'Bearer {token}'}\n",
    "\n",
    "    # Fetch new content\n",
    "    response = requests.get(endpoint, headers=headers)\n",
    "\n",
    "    if response.status_code == 200:\n",
    "        data = response.json()\n",
    "        # Process the fetched data (e.g., save to a database or display on a dashboard)\n",
    "        print('Fetched new content:', data)\n",
    "    else:\n",
    "        print('Error fetching content:', response.status_code)\n",
    "\n",
    "    # Wait for the next fetch interval\n",
    "    time.sleep(fetch_interval)"
   ]
  },
  {
   "cell_type": "code",
   "execution_count": 8,
   "metadata": {},
   "outputs": [
    {
     "ename": "",
     "evalue": "",
     "output_type": "error",
     "traceback": [
      "\u001b[1;31mCannot execute code, session has been disposed. Please try restarting the Kernel."
     ]
    },
    {
     "ename": "",
     "evalue": "",
     "output_type": "error",
     "traceback": [
      "\u001b[1;31mCannot execute code, session has been disposed. Please try restarting the Kernel. \n",
      "\u001b[1;31mView Jupyter <a href='command:jupyter.viewOutput'>log</a> for further details."
     ]
    }
   ],
   "source": [
    "import requests\n",
    "import time\n",
    "from bs4 import BeautifulSoup\n",
    "\n",
    "# WordPress REST API endpoint URL\n",
    "wp_api_url = 'https://www.ibm.com/blogs/think/category/artificial-intelligence/'\n",
    "\n",
    "weather_data = []\n",
    "\n",
    "# Set the interval for fetching new content (in seconds)\n",
    "fetch_interval = 300  # 5 minute\n",
    "headers = {'User-Agent': 'Mozilla/5.0 (platform; rv:geckoversion) Gecko/geckotrail Firefox/firefoxversion'}\n",
    "\n",
    "weather_data = []\n",
    "while True:\n",
    "\n",
    "    # Fetch new content\n",
    "    headers = {'User-Agent': 'Mozilla/5.0 (platform; rv:geckoversion) Gecko/geckotrail Firefox/firefoxversion'}\n",
    "    response = requests.get(f'{wp_api_url}', headers=headers)#.text\n",
    "\n",
    "    if response.status_code == 200:\n",
    "        soup = BeautifulSoup(response.text, 'lxml')\n",
    "        \n",
    "        for tag in soup.find_all(['h1', 'h2', 'h3', 'p']):\n",
    "            text = tag.get_text(\" \", strip=True)\n",
    "            weather_data.append(text)\n",
    "            # Process the fetched data (e.g., save to a database or display on a dashboard)\n",
    "            #print('Fetched new content:')\n",
    "    else:\n",
    "        print('Error fetching content:')\n",
    "\n",
    "    # Wait for the next fetch interval\n",
    "    time.sleep(fetch_interval)\n",
    "\n"
   ]
  },
  {
   "cell_type": "code",
   "execution_count": 33,
   "metadata": {},
   "outputs": [],
   "source": [
    "weather_data = []\n",
    "for tag in soup.find_all(['h1', 'h2', 'h3', 'p']):\n",
    "    text = tag.get_text(\" \", strip=True)\n",
    "    weather_data.append(text.replace())"
   ]
  },
  {
   "cell_type": "code",
   "execution_count": 17,
   "metadata": {},
   "outputs": [],
   "source": [
    "import requests\n",
    "import time\n",
    "from bs4 import BeautifulSoup\n",
    "\n",
    "wp_api_url = 'https://www.ibm.com/blogs/think/category/artificial-intelligence/'\n",
    "weather_data = []\n",
    "\n",
    "headers = {'User-Agent': 'Mozilla/5.0 (platform; rv:geckoversion) Gecko/geckotrail Firefox/firefoxversion'}\n",
    "response = requests.get(f'{wp_api_url}', headers=headers).text\n",
    "soup = BeautifulSoup(response, 'lxml')\n",
    "        \n",
    "for tag in soup.find_all(['h1', 'h2', 'h3', 'p']):\n",
    "    text = tag.get_text(\" \", strip=True)\n",
    "    weather_data.append(text)"
   ]
  },
  {
   "cell_type": "code",
   "execution_count": 6,
   "metadata": {},
   "outputs": [
    {
     "name": "stdout",
     "output_type": "stream",
     "text": [
      "27\n"
     ]
    }
   ],
   "source": [
    "\n",
    "weather_data = [item for item in weather_data if item]\n",
    "\n",
    "print(len(set(weather_data)))"
   ]
  },
  {
   "cell_type": "code",
   "execution_count": null,
   "metadata": {},
   "outputs": [],
   "source": [
    "<div class=\"ibm-card\">"
   ]
  },
  {
   "cell_type": "code",
   "execution_count": 52,
   "metadata": {},
   "outputs": [],
   "source": [
    "import requests\n",
    "import time\n",
    "from bs4 import BeautifulSoup\n",
    "\n",
    "wp_api_url = 'https://www.ibm.com/blogs/think/category/artificial-intelligence/'\n",
    "weather_data = []\n",
    "\n",
    "headers = {'User-Agent': 'Mozilla/5.0 (platform; rv:geckoversion) Gecko/geckotrail Firefox/firefoxversion'}\n",
    "response = requests.get(f'{wp_api_url}', headers=headers).text\n",
    "soup = BeautifulSoup(response, 'lxml')\n",
    "\n",
    "for i in soup.find_all('div',class_=\"ibm-card\"):\n",
    "    weather_data.append(i.get_text(\" \", strip=True))"
   ]
  },
  {
   "cell_type": "code",
   "execution_count": 53,
   "metadata": {},
   "outputs": [
    {
     "data": {
      "text/plain": [
       "['Artificial Intelligence AI in 2020: From Experimentation to Adoption AI has captured the imagination and attention of people globally. But in the business world, the rate of adoption of artificial intelligence has lagged behind the level of interest through 2019. Even though we hear that most business leaders believe AI provides a competitive advantage, up until recently, some industry watchers have pegged enterprise adoption […] Continue reading Share this post:',\n",
       " 'Artificial Intelligence Watson Anywhere: The Future (Part 3 in a Series) There’s a paradox in the world of AI: While it’s the largest economic opportunity of our lifetime (estimated to contribute $16 trillion to GDP by 2030), enterprise adoption of AI was less than 4% in 2018. A recent Gartner survey said that the 4% in 2018 has now grown to […] Continue reading Share this post:',\n",
       " 'Recent Comments jintu on Embracing Hybrid Cloud, AI for the Modern App Revolution Peter Fay on Accessibility: The Intersection of Innovation and Inclusion Diane Margaretos on Accessibility: The Intersection of Innovation and Inclusion SAURABH JAIN on Refining the Expanding Role of Hybrid Cloud Rohtash Kumar on Refining the Expanding Role of Hybrid Cloud Archives November 2020 October 2020 August 2020 July 2020 June 2020 May 2020 April 2020 March 2020 February 2020 January 2020 December 2019 November 2019 Categories 5G Accessibility Agile Methods AI Analytics Apollo Artificial Intelligence Augmented Reality Auto Industry Automation Banking Benefits Big Data Blockchain Branding business analytics Call for Code Chief Data Officers Citizen IBM Cloud Computing Cloud Computing Cognitive Banking Cognitive Commerce Cognitive Computing Cognitive Computing Cognitive Enterprise Cognitive Retail Cognitive Utilities Collaboration Commerce Consumer Behavior Corporate Citizenship COVID-19 Customer Analytics Cyber Security Cybersecurity Data Analytics Data Governance Data Responsibility Data Science Data Visualization Databases DataOps Deep Learning Design Thinking Development Diversity & Inclusion Earth Day eCommerce & Merchandising Education Electronics Enterprise Strong ERP Events Exponential Learning Financial Services FinTech Flash Storage GDPR Health & Wellness High Performance Computing Hybrid Cloud Hybrid Multicloud IBM Cloud IBM Cloud Private IBM Cloud Video IBM Global Services IBM Policy IBM Power IBM Research IBM Security IBM Watson IBM Watson In Memoriam Industries: Automotive Innovation Internet of Things Internet of Things (IoT) IoT Leadership Machine Learning Marketing Media & Entertainment Mobile Computing Multi-Cloud New Collar Jobs NLP Oil & Gas Open Source Software OpenPOWER P-TECH Partnerships Patents Payments Perspectives Power Public Statement Quantum Computing Red Hat Resiliency Retail security Skills Smart banking Smart Grid Smarter Financial Services Smarter Industries Smarter Planet Smarter Security Social Business Social Good Space Exploration Sports Innovation STEM Supercomputing Supply Chain Systems Tech For Good Technology Services Telecom The Weather Company THINK Think 2018 This Is Watson Transportation Uncategorized Veterans Water Watson Financial Services Watson Health Watson IOT Weather Wellness Women in Tech World Community Grid World Oceans Day Z Meta Log in Entries RSS Comments RSS WordPress.org',\n",
       " 'Artificial Intelligence AI is Not Magic: It’s Time to Demystify and Apply For centuries, electricity was thought to be the domain of sorcerers – magicians who left audiences puzzled about where it came from and how it was generated. And although Benjamin Franklin and his contemporaries were well aware of the phenomena when he proved the connection between electricity and lightning, he had difficulty envisioning a practical […] Continue reading Share this post:',\n",
       " 'Artificial Intelligence A New Way to Accelerate Your AI Plans Building artificial intelligence (AI) systems involves more than learning how to perform a specific task from data; it requires a strong data foundation and infrastructure architecture. This foundation, as my colleagues have said on this blog many times, assists organizations large and small as they scale the Ladder to AI. As CDO of this great […] Continue reading Share this post:',\n",
       " 'Artificial Intelligence Winning with AI Since the year 2000, 52% of the companies that make up the Fortune 500 have disappeared. They have been acquired, succumbed to performance atrophy, or declared bankruptcy. In this hyper-competitive marketplace, winners and losers are being declared every day. And while artificial intelligence (AI) can be the valve to these pressures, for many, drafting a […] Continue reading Share this post:',\n",
       " 'Artificial Intelligence Scaling the AI Ladder The first automobile was driven down the streets of Detroit in 1890. It would take another 30 years before Henry Ford streamlined production and made cars available to the mass market. The obvious lesson: sometimes technology has a long gestation period, before we can scale it for everyday use. But, digging a bit deeper, there […] Continue reading Share this post:',\n",
       " 'Artificial Intelligence Future Designers Unleash Creativity with AI At Tommy Hilfiger, we have always been industry pioneers and driven by our vision to break conventions. We are constantly seeking\\xa0new ways to evolve and respond to our consumer’s expectations. In this age of newness, it’s more important than ever to evolve and deliver on the instant gratification that consumers are looking for. Two\\xa0years\\xa0ago,\\xa0we had\\xa0the\\xa0unique […] Continue reading Share this post:',\n",
       " 'Artificial Intelligence Five Emerging Trends in Technology Support Services In recent years, the field of technology support has evolved rapidly to catch up with disruptive services technologies. In the meantime, technology innovation has led to fundamental changes in how support services are delivered. We highlight the following five technology trends expected to drive the evolution of the technology support services industry, and to shape […] Continue reading Share this post:',\n",
       " 'Artificial Intelligence How to Accelerate the Use of AI in Organizations Open any business publication or digital journal today, and you will read about the promise of AI, known as artificial or augmented intelligence, and how it will transform your business. The fact is, AI will not only transform your entire business, whether you are in health care, finance, retail or manufacturing, but it will also […] Continue reading Share this post:',\n",
       " 'Artificial Intelligence The Importance of Creating a Culture of Data Using and exploiting artificial intelligence (AI), is a goal for many enterprises around the world. Of course, before you can begin working with the cognitive technology, a number steps have to be taken. For starters, AI requires machine learning and machine learning, requires analytics. And to work with analytics effectively, you need a simple, elegant […] Continue reading Share this post:',\n",
       " 'Artificial Intelligence How IBM and Salesforce Are Challenging Traditional Business Models Since unveiling our partnership with Salesforce in March, we’ve worked together to champion the impact of AI across all facets of business, helping companies across all industries make smarter decisions, faster than ever before. Today, at Salesforce’s annual Dreamforce conference, IBM’s Chairman, President and CEO Ginni Rometty will join Salesforce Chairman and CEO, Marc Benioff, […] Continue reading Share this post:',\n",
       " 'Artificial Intelligence A Parable: “The Blind GPUs and the Elephant” “…Each blind man feels a different part of the elephant body, but only one part, such as the side or the tusk. They then describe the elephant based on their partial experience and their descriptions are in complete disagreement on what an elephant is.” –\\xa0The Rigveda This parable is helpful describing the problem that we […] Continue reading Share this post:']"
      ]
     },
     "execution_count": 53,
     "metadata": {},
     "output_type": "execute_result"
    }
   ],
   "source": [
    "weather_data"
   ]
  },
  {
   "cell_type": "code",
   "execution_count": 1,
   "metadata": {},
   "outputs": [
    {
     "name": "stderr",
     "output_type": "stream",
     "text": [
      "e:\\practice\\wasser_task\\Lib\\site-packages\\sentence_transformers\\cross_encoder\\CrossEncoder.py:11: TqdmWarning: IProgress not found. Please update jupyter and ipywidgets. See https://ipywidgets.readthedocs.io/en/stable/user_install.html\n",
      "  from tqdm.autonotebook import tqdm, trange\n",
      "e:\\practice\\wasser_task\\Lib\\site-packages\\huggingface_hub\\file_download.py:157: UserWarning: `huggingface_hub` cache-system uses symlinks by default to efficiently store duplicated files but your machine does not support them in C:\\Users\\mayank.vanik\\.cache\\huggingface\\hub\\models--sentence-transformers--all-MiniLM-L6-v2. Caching files will still work but in a degraded version that might require more space on your disk. This warning can be disabled by setting the `HF_HUB_DISABLE_SYMLINKS_WARNING` environment variable. For more details, see https://huggingface.co/docs/huggingface_hub/how-to-cache#limitations.\n",
      "To support symlinks on Windows, you either need to activate Developer Mode or to run Python as an administrator. In order to see activate developer mode, see this article: https://docs.microsoft.com/en-us/windows/apps/get-started/enable-your-device-for-development\n",
      "  warnings.warn(message)\n",
      "e:\\practice\\wasser_task\\Lib\\site-packages\\huggingface_hub\\file_download.py:1132: FutureWarning: `resume_download` is deprecated and will be removed in version 1.0.0. Downloads always resume when possible. If you want to force a new download, use `force_download=True`.\n",
      "  warnings.warn(\n"
     ]
    },
    {
     "name": "stdout",
     "output_type": "stream",
     "text": [
      "[[ 6.76569417e-02  6.34959564e-02  4.87131029e-02  7.93048963e-02\n",
      "   3.74480709e-02  2.65277619e-03  3.93749177e-02 -7.09846616e-03\n",
      "   5.93614057e-02  3.15370224e-02  6.00980818e-02 -5.29052354e-02\n",
      "   4.06067409e-02 -2.59308442e-02  2.98428535e-02  1.12691487e-03\n",
      "   7.35148937e-02 -5.03818579e-02 -1.22386597e-01  2.37028375e-02\n",
      "   2.97265276e-02  4.24768776e-02  2.56337691e-02  1.99514348e-03\n",
      "  -5.69190495e-02 -2.71597989e-02 -3.29035297e-02  6.60248995e-02\n",
      "   1.19007193e-01 -4.58791330e-02 -7.26214200e-02 -3.25840116e-02\n",
      "   5.23414016e-02  4.50553410e-02  8.25305004e-03  3.67024243e-02\n",
      "  -1.39415674e-02  6.53918684e-02 -2.64272075e-02  2.06393175e-04\n",
      "  -1.36643527e-02 -3.62811014e-02 -1.95043907e-02 -2.89738420e-02\n",
      "   3.94270532e-02 -8.84090662e-02  2.62423488e-03  1.36713171e-02\n",
      "   4.83062454e-02 -3.11566181e-02 -1.17329188e-01 -5.11690676e-02\n",
      "  -8.85287672e-02 -2.18963325e-02  1.42986281e-02  4.44167778e-02\n",
      "  -1.34816021e-02  7.43392631e-02  2.66382936e-02 -1.98762678e-02\n",
      "   1.79191213e-02 -1.06052039e-02 -9.04262811e-02  2.13268865e-02\n",
      "   1.41204834e-01 -6.47176104e-03 -1.40378485e-03 -1.53609365e-02\n",
      "  -8.73571262e-02  7.22174048e-02  2.01402996e-02  4.25587818e-02\n",
      "  -3.49013768e-02  3.19474493e-04 -8.02971125e-02 -3.27472091e-02\n",
      "   2.85268556e-02 -5.13657555e-02  1.09389186e-01  8.19327682e-02\n",
      "  -9.84040275e-02 -9.34096426e-02 -1.51291797e-02  4.51249368e-02\n",
      "   4.94172126e-02 -2.51868013e-02  1.57077573e-02 -1.29290745e-01\n",
      "   5.31888986e-03  4.02342249e-03 -2.34571211e-02 -6.72982708e-02\n",
      "   2.92280186e-02 -2.60845311e-02  1.30625125e-02 -3.11663151e-02\n",
      "  -4.82713841e-02 -5.58859296e-02 -3.87505293e-02  1.20010898e-01\n",
      "  -1.03924535e-02  4.89705503e-02  5.53537235e-02  4.49358188e-02\n",
      "  -4.00977908e-03 -1.02959782e-01 -2.92968899e-02 -5.83403148e-02\n",
      "   2.70472821e-02 -2.20169015e-02 -7.22240880e-02 -4.13869657e-02\n",
      "  -1.93298385e-02  2.73327855e-03  2.77042243e-04 -9.67589095e-02\n",
      "  -1.00574717e-01 -1.41922859e-02 -8.07891712e-02  4.53925133e-02\n",
      "   2.45041493e-02  5.97614087e-02 -7.38184974e-02  1.19844154e-02\n",
      "  -6.63403794e-02 -7.69045353e-02  3.85157876e-02 -5.59362366e-33\n",
      "   2.80014202e-02 -5.60784973e-02 -4.86601442e-02  2.15568934e-02\n",
      "   6.01981133e-02 -4.81402166e-02 -3.50247063e-02  1.93313845e-02\n",
      "  -1.75152197e-02 -3.89210507e-02 -3.81067279e-03 -1.70287751e-02\n",
      "   2.82099918e-02  1.28290914e-02  4.71600927e-02  6.21030666e-02\n",
      "  -6.43588975e-02  1.29285574e-01 -1.31231202e-02  5.23069538e-02\n",
      "  -3.73681039e-02  2.89094578e-02 -1.68980882e-02 -2.37330496e-02\n",
      "  -3.33491862e-02 -5.16762994e-02  1.55356592e-02  2.08802894e-02\n",
      "  -1.25371739e-02  4.59578820e-02  3.72719876e-02  2.80566458e-02\n",
      "  -5.90005219e-02 -1.16988299e-02  4.92182858e-02  4.70329039e-02\n",
      "   7.35487789e-02 -3.70530263e-02  3.98460124e-03  1.06411763e-02\n",
      "  -1.61481134e-04 -5.27165532e-02  2.75927819e-02 -3.92921120e-02\n",
      "   8.44717473e-02  4.86861020e-02 -4.85870475e-03  1.79948695e-02\n",
      "  -4.28569205e-02  1.23375608e-02  6.39952580e-03  4.04823311e-02\n",
      "   1.48886545e-02 -1.53941317e-02  7.62948841e-02  2.37044189e-02\n",
      "   4.45237234e-02  5.08196689e-02 -2.31253076e-03 -1.88736822e-02\n",
      "  -1.23335784e-02  4.66001630e-02 -5.63437901e-02  6.29928112e-02\n",
      "  -3.15535143e-02  3.24912518e-02  2.34673563e-02 -6.55438229e-02\n",
      "   2.01709159e-02  2.57082619e-02 -1.23869097e-02 -8.36491212e-03\n",
      "  -6.64377958e-02  9.43073481e-02 -3.57093252e-02 -3.42482999e-02\n",
      "  -6.66356925e-03 -8.01525731e-03 -3.09711229e-02  4.33012024e-02\n",
      "  -8.21396895e-03 -1.50795043e-01  3.07691675e-02  4.00719717e-02\n",
      "  -3.79293188e-02  1.93217210e-03  4.00530994e-02 -8.77075195e-02\n",
      "  -3.68490815e-02  8.57964996e-03 -3.19251940e-02 -1.25257680e-02\n",
      "   7.35540017e-02  1.34735845e-03  2.05918569e-02  2.71098366e-33\n",
      "  -5.18576466e-02  5.78361340e-02 -9.18985531e-02  3.94421555e-02\n",
      "   1.05576560e-01 -1.96911916e-02  6.18402250e-02 -7.63465241e-02\n",
      "   2.40880530e-02  9.40049216e-02 -1.16535410e-01  3.71198654e-02\n",
      "   5.22425696e-02 -3.95857869e-03  5.72214834e-02  5.32852393e-03\n",
      "   1.24016851e-01  1.39022572e-02 -1.10250209e-02  3.56053077e-02\n",
      "  -3.30755040e-02  8.16574320e-02 -1.52004082e-02  6.05585761e-02\n",
      "  -6.01397604e-02  3.26102227e-02 -3.48296203e-02 -1.69881806e-02\n",
      "  -9.74907205e-02 -2.71484610e-02  1.74711633e-03 -7.68982619e-02\n",
      "  -4.31858189e-02 -1.89984385e-02 -2.91661024e-02  5.77488132e-02\n",
      "   2.41821315e-02 -1.16902422e-02 -6.21435121e-02  2.84351185e-02\n",
      "  -2.37509070e-04 -2.51783691e-02  4.39638458e-03  8.12839717e-02\n",
      "   3.64183746e-02 -6.04006127e-02 -3.65517214e-02 -7.93748572e-02\n",
      "  -5.08519588e-03  6.69698641e-02 -1.17784359e-01  3.23743336e-02\n",
      "  -4.71252836e-02 -1.34459762e-02 -9.48444828e-02  8.24952405e-03\n",
      "  -1.06748492e-02 -6.81881756e-02  1.11815624e-03  2.48020142e-02\n",
      "  -6.35889247e-02  2.84493398e-02 -2.61303876e-02  8.58111158e-02\n",
      "   1.14682265e-01 -5.35345823e-02 -5.63588552e-02  4.26009446e-02\n",
      "   1.09454580e-02  2.09579393e-02  1.00131087e-01  3.26050930e-02\n",
      "  -1.84208810e-01 -3.93208489e-02 -6.91454858e-02 -6.38104975e-02\n",
      "  -6.56386092e-02 -6.41250331e-03 -4.79612239e-02 -7.68133402e-02\n",
      "   2.95384806e-02 -2.29948126e-02  4.17036861e-02 -2.50048023e-02\n",
      "  -4.54506325e-03 -4.17136289e-02 -1.32289538e-02 -6.38357475e-02\n",
      "  -2.46470957e-03 -1.37337623e-02  1.68976486e-02 -6.30397946e-02\n",
      "   8.98880661e-02  4.18171361e-02 -1.85687486e-02 -1.80442203e-08\n",
      "  -1.67998113e-02 -3.21577750e-02  6.30383641e-02 -4.13091779e-02\n",
      "   4.44818512e-02  2.02465826e-03  6.29592463e-02 -5.17372787e-03\n",
      "  -1.00444360e-02 -3.05640046e-02  3.52673084e-02  5.58581278e-02\n",
      "  -4.67124581e-02  3.45103405e-02  3.29577923e-02  4.30114418e-02\n",
      "   2.94360984e-02 -3.03164925e-02 -1.71107780e-02  7.37484768e-02\n",
      "  -5.47910184e-02  2.77515333e-02  6.20166445e-03  1.58800371e-02\n",
      "   3.42978872e-02 -5.15752332e-03  2.35079918e-02  7.53135830e-02\n",
      "   1.92843098e-02  3.36197019e-02  5.09103350e-02  1.52497098e-01\n",
      "   1.64207704e-02  2.70528309e-02  3.75162177e-02  2.18552630e-02\n",
      "   5.66333644e-02 -3.95746306e-02  7.12313578e-02 -5.41377515e-02\n",
      "   1.03766785e-03  2.11852826e-02 -3.56309339e-02  1.09016888e-01\n",
      "   2.76535540e-03  3.13997492e-02  1.38421520e-03 -3.45738530e-02\n",
      "  -4.59278002e-02  2.88083479e-02  7.16900127e-03  4.84684594e-02\n",
      "   2.61018667e-02 -9.44069773e-03  2.82169618e-02  3.48724686e-02\n",
      "   3.69098783e-02 -8.58951639e-03 -3.53205428e-02 -2.47857179e-02\n",
      "  -1.91921089e-02  3.80707346e-02  5.99653088e-02 -4.22287583e-02]\n",
      " [ 8.64386186e-02  1.02762640e-01  5.39459009e-03  2.04444467e-03\n",
      "  -9.96333174e-03  2.53855307e-02  4.92875278e-02 -3.06265336e-02\n",
      "   6.87254742e-02  1.01365978e-02  7.75397792e-02 -9.00807604e-02\n",
      "   6.10617967e-03 -5.69898561e-02  1.41714737e-02  2.80491896e-02\n",
      "  -8.68465006e-02  7.64399022e-02 -1.03491336e-01 -6.77438080e-02\n",
      "   6.99946731e-02  8.44251215e-02 -7.24912016e-03  1.04770251e-02\n",
      "   1.34020718e-02  6.77577108e-02 -9.42086354e-02 -3.71690020e-02\n",
      "   5.22617474e-02 -3.10853347e-02 -9.63406861e-02  1.57716777e-02\n",
      "   2.57866438e-02  7.85245225e-02  7.89949074e-02  1.91516019e-02\n",
      "   1.64356697e-02  3.10087577e-03  3.81311364e-02  2.37090718e-02\n",
      "   1.05389925e-02 -4.40644659e-02  4.41738851e-02 -2.58727930e-02\n",
      "   6.15378693e-02 -4.05427888e-02 -8.64139870e-02  3.19722369e-02\n",
      "  -8.90655385e-04 -2.44437438e-02 -9.19720978e-02  2.33939607e-02\n",
      "  -8.30293372e-02  4.41510752e-02 -2.49693133e-02  6.23020530e-02\n",
      "  -1.30354939e-03  7.51395598e-02  2.46385187e-02 -6.47244602e-02\n",
      "  -1.17727757e-01  3.83392200e-02 -9.11767483e-02  6.35445938e-02\n",
      "   7.62739927e-02 -8.80241320e-02  9.54558980e-03 -4.69717681e-02\n",
      "  -8.41740519e-02  3.88824008e-02 -1.14393547e-01  6.28858944e-03\n",
      "  -3.49361785e-02  2.39750128e-02 -3.31316851e-02 -1.57243740e-02\n",
      "  -3.78955640e-02 -8.81250110e-03  7.06119165e-02  3.28066610e-02\n",
      "   2.03670748e-03 -1.12279005e-01  6.79721404e-03  1.22765806e-02\n",
      "   3.35303992e-02 -1.36200720e-02 -2.25490164e-02 -2.25228965e-02\n",
      "  -2.03194916e-02  5.04297465e-02 -7.48652741e-02 -8.22822452e-02\n",
      "   7.65962675e-02  4.93391976e-02 -3.75553370e-02  1.44634498e-02\n",
      "  -5.72458208e-02 -1.79954544e-02  1.09697953e-01  1.19462796e-01\n",
      "   8.09218735e-04  6.17057346e-02  3.26322243e-02 -1.30780101e-01\n",
      "  -1.48636624e-01 -6.16232529e-02  4.33886014e-02  2.67129280e-02\n",
      "   1.39785958e-02 -3.94002311e-02 -2.52711661e-02  3.87742114e-03\n",
      "   3.58664766e-02 -6.15420267e-02  3.76660526e-02  2.67565195e-02\n",
      "  -3.82659324e-02 -3.54793221e-02 -2.39227433e-02  8.67977366e-02\n",
      "  -1.84062775e-02  7.71039501e-02  1.39859400e-03  7.00383186e-02\n",
      "  -4.77877632e-02 -7.89819732e-02  5.10814711e-02 -2.99868297e-33\n",
      "  -3.91646400e-02 -2.56212428e-03  1.65210702e-02  9.48939100e-03\n",
      "  -5.66219315e-02  6.57783151e-02 -4.77002710e-02  1.11661917e-02\n",
      "  -5.73558509e-02 -9.16259550e-03 -2.17521358e-02 -5.59531748e-02\n",
      "  -1.11423098e-02  9.32793096e-02  1.66765172e-02 -1.36723677e-02\n",
      "   4.34388407e-02  1.87244453e-03  7.29948329e-03  5.16332202e-02\n",
      "   4.80608270e-02  1.35341421e-01 -1.71738882e-02 -1.29698580e-02\n",
      "  -7.50110149e-02  2.61107851e-02  2.69802064e-02  7.83080002e-04\n",
      "  -4.87270579e-02  1.17842667e-02 -4.59580608e-02 -4.83213142e-02\n",
      "  -1.95671171e-02  1.93889644e-02  1.98807288e-02  1.67432316e-02\n",
      "   9.87801328e-02 -2.74087656e-02  2.34809089e-02  3.70230130e-03\n",
      "  -6.14515133e-02 -1.21230143e-03 -9.50473547e-03  9.25153401e-03\n",
      "   2.38443948e-02  8.61231983e-02  2.26789732e-02  5.45134302e-04\n",
      "   3.47129293e-02  6.25465577e-03 -6.92776730e-03  3.92400324e-02\n",
      "   1.15674883e-02  3.26280147e-02  6.22155555e-02  2.76114438e-02\n",
      "   1.86883416e-02  3.55806202e-02  4.11796197e-02  1.54782515e-02\n",
      "   4.22691517e-02  3.82248424e-02  1.00313174e-02 -2.83245966e-02\n",
      "   4.47052568e-02 -4.10458855e-02 -4.50547598e-03 -5.44734262e-02\n",
      "   2.62320656e-02  1.79862622e-02 -1.23118743e-01 -4.66952100e-02\n",
      "  -1.35913156e-02  6.46710768e-02  3.57349613e-03 -1.22233965e-02\n",
      "  -1.79382227e-02 -2.55501978e-02  2.37224102e-02  4.08668909e-03\n",
      "  -6.51476234e-02  4.43651415e-02  4.68596071e-02 -3.25175226e-02\n",
      "   4.02265880e-03 -3.97606753e-03  1.11939432e-02 -9.95597765e-02\n",
      "   3.33168171e-02  8.01060647e-02  9.42692012e-02 -6.38294369e-02\n",
      "   3.23151648e-02 -5.13553210e-02 -7.49873789e-03  5.30048035e-34\n",
      "  -4.13194820e-02  9.49646905e-02 -1.06401421e-01  4.96590547e-02\n",
      "  -3.41913216e-02 -3.16745602e-02 -1.71556138e-02  1.70102133e-03\n",
      "   5.79757802e-02 -1.21775281e-03 -1.68536231e-02 -5.16912304e-02\n",
      "   5.52999042e-02 -3.42647545e-02  3.08179427e-02 -3.10480632e-02\n",
      "   9.27532539e-02  3.72663774e-02 -2.37398259e-02  4.45893556e-02\n",
      "   1.46153728e-02  1.16239399e-01 -5.00112772e-02  3.88716348e-02\n",
      "   4.24741907e-03  2.56976653e-02  3.27243507e-02  4.29907516e-02\n",
      "  -1.36144720e-02  2.56121922e-02  1.06262350e-02 -8.46863911e-02\n",
      "  -9.52982306e-02  1.08399853e-01 -7.51600116e-02 -1.37773305e-02\n",
      "   6.37338385e-02 -4.49670106e-03 -3.25321406e-02  6.23613931e-02\n",
      "   3.48053165e-02 -3.54922414e-02 -2.00222488e-02  3.66608202e-02\n",
      "  -2.48837043e-02  1.01818396e-02 -7.01233074e-02 -4.31951135e-02\n",
      "   2.95333043e-02 -2.94897152e-04 -3.45386937e-02  1.46676069e-02\n",
      "  -9.83969569e-02 -4.70487997e-02 -8.85497779e-03 -8.89913887e-02\n",
      "   3.50996107e-02 -1.29601985e-01 -4.98866327e-02 -6.12047128e-02\n",
      "  -5.97797856e-02  9.46318451e-03  4.91217524e-02 -7.75026679e-02\n",
      "   8.09727535e-02 -4.79257703e-02  2.34378478e-03  7.57031292e-02\n",
      "  -2.40175501e-02 -1.52546102e-02  4.86738607e-02 -3.85968462e-02\n",
      "  -7.04831481e-02 -1.20348325e-02 -3.88790555e-02 -7.76017085e-02\n",
      "  -1.07243825e-02  1.04188006e-02 -2.13754009e-02 -9.17386487e-02\n",
      "  -1.11344792e-02 -2.96066254e-02  2.46458128e-02  4.65710741e-03\n",
      "  -1.63449664e-02 -3.95219587e-02  7.73373842e-02 -2.84732878e-02\n",
      "  -3.69940023e-03  8.27665329e-02 -1.10409427e-02  3.13983113e-02\n",
      "   5.35094514e-02  5.75145595e-02 -3.17622237e-02 -1.52911266e-08\n",
      "  -7.99661279e-02 -4.76796851e-02 -8.59788880e-02  5.69616966e-02\n",
      "  -4.08866741e-02  2.23832317e-02 -4.64447960e-03 -3.80130671e-02\n",
      "  -3.10671069e-02 -1.07278088e-02  1.97698511e-02  7.77003681e-03\n",
      "  -6.09470485e-03 -3.86375748e-02  2.80271824e-02  6.78137615e-02\n",
      "  -2.35351883e-02  3.21747027e-02  8.02536681e-03 -2.39107441e-02\n",
      "  -1.21995620e-03  3.14598717e-02 -5.24924137e-02 -8.06814060e-03\n",
      "   3.14776623e-03  5.11496365e-02 -4.44104485e-02  6.36013523e-02\n",
      "   3.85084078e-02  3.30433398e-02 -4.18728171e-03  4.95592803e-02\n",
      "  -5.69605418e-02 -6.49710884e-03 -2.49792952e-02 -1.60866864e-02\n",
      "   6.62289709e-02 -2.06310973e-02  1.08045734e-01  1.68547146e-02\n",
      "   1.43812140e-02 -1.32127302e-02 -1.29387408e-01  6.95216507e-02\n",
      "  -5.55772707e-02 -6.75413162e-02 -5.45820827e-03 -6.13595359e-03\n",
      "   3.90841104e-02 -6.28779158e-02  3.74063365e-02 -1.16570946e-02\n",
      "   1.29150003e-02 -5.52495457e-02  5.16075641e-02 -4.30842442e-03\n",
      "   5.80247715e-02  1.86945219e-02  2.27810405e-02  3.21665518e-02\n",
      "   5.37978746e-02  7.02849030e-02  7.49312192e-02 -8.41775090e-02]]\n"
     ]
    }
   ],
   "source": [
    "from sentence_transformers import SentenceTransformer\n",
    "sentences = [\"This is an example sentence\", \"Each sentence is converted\"]\n",
    "\n",
    "model = SentenceTransformer('sentence-transformers/all-MiniLM-L6-v2')\n",
    "embeddings = model.encode(sentences)\n",
    "print(embeddings)"
   ]
  },
  {
   "cell_type": "code",
   "execution_count": 5,
   "metadata": {},
   "outputs": [
    {
     "name": "stdout",
     "output_type": "stream",
     "text": [
      "Sentence: 'This is an example sentence'\n",
      "  Similar Sentence: 'This is a sample sentence for testing' with similarity score 0.6154\n",
      "  Similar Sentence: 'Another example sentence to compare' with similarity score 0.5998\n",
      "  Similar Sentence: 'Each sentence is converted' with similarity score 0.4046\n",
      "\n",
      "Sentence: 'Each sentence is converted'\n",
      "  Similar Sentence: 'This is an example sentence' with similarity score 0.4046\n",
      "  Similar Sentence: 'This is a sample sentence for testing' with similarity score 0.3982\n",
      "  Similar Sentence: 'Another example sentence to compare' with similarity score 0.3952\n",
      "\n",
      "Sentence: 'This is a sample sentence for testing'\n",
      "  Similar Sentence: 'This is an example sentence' with similarity score 0.6154\n",
      "  Similar Sentence: 'Another example sentence to compare' with similarity score 0.5489\n",
      "  Similar Sentence: 'Each sentence is converted' with similarity score 0.3982\n",
      "\n",
      "Sentence: 'Another example sentence to compare'\n",
      "  Similar Sentence: 'This is an example sentence' with similarity score 0.5998\n",
      "  Similar Sentence: 'This is a sample sentence for testing' with similarity score 0.5489\n",
      "  Similar Sentence: 'Testing sentence embeddings with similarity' with similarity score 0.4310\n",
      "\n",
      "Sentence: 'Testing sentence embeddings with similarity'\n",
      "  Similar Sentence: 'Another example sentence to compare' with similarity score 0.4310\n",
      "  Similar Sentence: 'This is a sample sentence for testing' with similarity score 0.3781\n",
      "  Similar Sentence: 'Each sentence is converted' with similarity score 0.3401\n",
      "\n"
     ]
    }
   ],
   "source": [
    "from sentence_transformers import SentenceTransformer, util\n",
    "import numpy as np\n",
    "\n",
    "# Define the sentences\n",
    "sentences = [\n",
    "    \"This is an example sentence\",\n",
    "    \"Each sentence is converted\",\n",
    "    \"This is a sample sentence for testing\",\n",
    "    \"Another example sentence to compare\",\n",
    "    \"Testing sentence embeddings with similarity\"\n",
    "]\n",
    "\n",
    "# Load the model\n",
    "model = SentenceTransformer('sentence-transformers/all-MiniLM-L6-v2')\n",
    "\n",
    "# Encode the sentences\n",
    "embeddings = model.encode(sentences)\n",
    "\n",
    "# Compute cosine similarities between the embeddings\n",
    "cosine_similarities = util.pytorch_cos_sim(embeddings, embeddings).numpy()\n",
    "\n",
    "# Find the top 2 most similar sentences for each sentence\n",
    "for idx, sentence in enumerate(sentences):\n",
    "    # Get the cosine similarity scores for the current sentence\n",
    "    similarity_scores = cosine_similarities[idx]\n",
    "    \n",
    "    # Get the indices of the top 2 most similar sentences, excluding the current sentence itself\n",
    "    top_indices = np.argsort(similarity_scores)[::-1][1:4]\n",
    "    \n",
    "    print(f\"Sentence: '{sentence}'\")\n",
    "    for top_idx in top_indices:\n",
    "        print(f\"  Similar Sentence: '{sentences[top_idx]}' with similarity score {similarity_scores[top_idx]:.4f}\")\n",
    "    print()\n"
   ]
  },
  {
   "cell_type": "code",
   "execution_count": 20,
   "metadata": {},
   "outputs": [
    {
     "name": "stderr",
     "output_type": "stream",
     "text": [
      "e:\\practice\\wasser_task\\Lib\\site-packages\\huggingface_hub\\file_download.py:1132: FutureWarning: `resume_download` is deprecated and will be removed in version 1.0.0. Downloads always resume when possible. If you want to force a new download, use `force_download=True`.\n",
      "  warnings.warn(\n"
     ]
    },
    {
     "name": "stdout",
     "output_type": "stream",
     "text": [
      "Faiss index created and embeddings added.\n"
     ]
    }
   ],
   "source": [
    "from sentence_transformers import SentenceTransformer\n",
    "import faiss\n",
    "import numpy as np\n",
    "\n",
    "# Define the sentences\n",
    "sentences = [\n",
    "    \"This is an example sentence\",\n",
    "    \"Each sentence is converted\",\n",
    "    \"This is a sample sentence for testing\",\n",
    "    \"Another example sentence to compare\",\n",
    "    \"Testing sentence embeddings with similarity\"\n",
    "]\n",
    "\n",
    "# Load the model\n",
    "model = SentenceTransformer('sentence-transformers/all-MiniLM-L6-v2')\n",
    "\n",
    "# Encode the sentences\n",
    "embeddings = model.encode(weather_data)\n",
    "\n",
    "# Convert embeddings to float32\n",
    "embeddings = np.array(embeddings).astype('float32')\n",
    "\n",
    "# Initialize the Faiss index\n",
    "index = faiss.IndexFlatL2(embeddings.shape[1])  # using L2 distance\n",
    "\n",
    "# Add embeddings to the index\n",
    "index.add(embeddings)\n",
    "\n",
    "# Save the index to a file (optional)\n",
    "faiss.write_index(index, 'faiss_index.idx')\n",
    "\n",
    "print(\"Faiss index created and embeddings added.\")\n"
   ]
  },
  {
   "cell_type": "code",
   "execution_count": 40,
   "metadata": {},
   "outputs": [
    {
     "data": {
      "text/plain": [
       "[Document(page_content='barbar', metadata={'page': 2}),\n",
       " Document(page_content='bar', metadata={'page': 1}),\n",
       " Document(page_content='bar bruh', metadata={'page': 4}),\n",
       " Document(page_content='bar burr', metadata={'page': 3})]"
      ]
     },
     "execution_count": 40,
     "metadata": {},
     "output_type": "execute_result"
    }
   ],
   "source": [
    "from langchain_core.documents import Document\n",
    "\n",
    "list_of_documents = [\n",
    "    Document(page_content=\"foo\", metadata=dict(page=1)),\n",
    "    Document(page_content=\"bar\", metadata=dict(page=1)),\n",
    "    Document(page_content=\"foo\", metadata=dict(page=2)),\n",
    "    Document(page_content=\"barbar\", metadata=dict(page=2)),\n",
    "    Document(page_content=\"foo\", metadata=dict(page=3)),\n",
    "    Document(page_content=\"bar burr\", metadata=dict(page=3)),\n",
    "    Document(page_content=\"foo\", metadata=dict(page=4)),\n",
    "    Document(page_content=\"bar bruh\", metadata=dict(page=4)),\n",
    "]\n",
    "db = FAISS.from_documents(list_of_documents, embeddings)\n",
    "doc = db.similarity_search(\"barbar\")\n",
    "doc\n",
    "\n",
    "# results_with_scores = db.similarity_search_with_score(\"barbar\")\n",
    "# for doc, score in results_with_scores:\n",
    "#     print(f\"Content: {doc.page_content}, Metadata: {doc.metadata}, Score: {score}\")"
   ]
  },
  {
   "cell_type": "code",
   "execution_count": 51,
   "metadata": {},
   "outputs": [
    {
     "ename": "NameError",
     "evalue": "name 'weather_data' is not defined",
     "output_type": "error",
     "traceback": [
      "\u001b[1;31m---------------------------------------------------------------------------\u001b[0m",
      "\u001b[1;31mNameError\u001b[0m                                 Traceback (most recent call last)",
      "Cell \u001b[1;32mIn[51], line 1\u001b[0m\n\u001b[1;32m----> 1\u001b[0m \u001b[43mweather_data\u001b[49m\n",
      "\u001b[1;31mNameError\u001b[0m: name 'weather_data' is not defined"
     ]
    }
   ],
   "source": [
    "weather_data"
   ]
  },
  {
   "cell_type": "code",
   "execution_count": 54,
   "metadata": {},
   "outputs": [],
   "source": [
    "file_path = 'text01.txt'\n",
    "\n",
    "with open(file_path, 'w', encoding='utf-8') as file:\n",
    "    for sentence in weather_data:\n",
    "        file.write(sentence + '\\n')"
   ]
  },
  {
   "cell_type": "code",
   "execution_count": 6,
   "metadata": {},
   "outputs": [
    {
     "ename": "RuntimeError",
     "evalue": "Error loading E:/practice/wasser_task/src/tt.txt",
     "output_type": "error",
     "traceback": [
      "\u001b[1;31m---------------------------------------------------------------------------\u001b[0m",
      "\u001b[1;31mUnicodeDecodeError\u001b[0m                        Traceback (most recent call last)",
      "File \u001b[1;32me:\\practice\\wasser_task\\Lib\\site-packages\\langchain_community\\document_loaders\\text.py:43\u001b[0m, in \u001b[0;36mTextLoader.lazy_load\u001b[1;34m(self)\u001b[0m\n\u001b[0;32m     42\u001b[0m     \u001b[38;5;28;01mwith\u001b[39;00m \u001b[38;5;28mopen\u001b[39m(\u001b[38;5;28mself\u001b[39m\u001b[38;5;241m.\u001b[39mfile_path, encoding\u001b[38;5;241m=\u001b[39m\u001b[38;5;28mself\u001b[39m\u001b[38;5;241m.\u001b[39mencoding) \u001b[38;5;28;01mas\u001b[39;00m f:\n\u001b[1;32m---> 43\u001b[0m         text \u001b[38;5;241m=\u001b[39m \u001b[43mf\u001b[49m\u001b[38;5;241;43m.\u001b[39;49m\u001b[43mread\u001b[49m\u001b[43m(\u001b[49m\u001b[43m)\u001b[49m\n\u001b[0;32m     44\u001b[0m \u001b[38;5;28;01mexcept\u001b[39;00m \u001b[38;5;167;01mUnicodeDecodeError\u001b[39;00m \u001b[38;5;28;01mas\u001b[39;00m e:\n",
      "File \u001b[1;32m~\\AppData\\Local\\Programs\\Python\\Python311\\Lib\\encodings\\cp1252.py:23\u001b[0m, in \u001b[0;36mIncrementalDecoder.decode\u001b[1;34m(self, input, final)\u001b[0m\n\u001b[0;32m     22\u001b[0m \u001b[38;5;28;01mdef\u001b[39;00m \u001b[38;5;21mdecode\u001b[39m(\u001b[38;5;28mself\u001b[39m, \u001b[38;5;28minput\u001b[39m, final\u001b[38;5;241m=\u001b[39m\u001b[38;5;28;01mFalse\u001b[39;00m):\n\u001b[1;32m---> 23\u001b[0m     \u001b[38;5;28;01mreturn\u001b[39;00m codecs\u001b[38;5;241m.\u001b[39mcharmap_decode(\u001b[38;5;28minput\u001b[39m,\u001b[38;5;28mself\u001b[39m\u001b[38;5;241m.\u001b[39merrors,decoding_table)[\u001b[38;5;241m0\u001b[39m]\n",
      "\u001b[1;31mUnicodeDecodeError\u001b[0m: 'charmap' codec can't decode byte 0x9d in position 4230: character maps to <undefined>",
      "\nThe above exception was the direct cause of the following exception:\n",
      "\u001b[1;31mRuntimeError\u001b[0m                              Traceback (most recent call last)",
      "Cell \u001b[1;32mIn[6], line 6\u001b[0m\n\u001b[0;32m      4\u001b[0m embeddings \u001b[38;5;241m=\u001b[39m HuggingFaceEmbeddings(model_name\u001b[38;5;241m=\u001b[39m\u001b[38;5;124m\"\u001b[39m\u001b[38;5;124mall-MiniLM-L6-v2\u001b[39m\u001b[38;5;124m\"\u001b[39m)\n\u001b[0;32m      5\u001b[0m loader \u001b[38;5;241m=\u001b[39m TextLoader(\u001b[38;5;124m'\u001b[39m\u001b[38;5;124mE:/practice/wasser_task/src/tt.txt\u001b[39m\u001b[38;5;124m'\u001b[39m)\n\u001b[1;32m----> 6\u001b[0m documents \u001b[38;5;241m=\u001b[39m \u001b[43mloader\u001b[49m\u001b[38;5;241;43m.\u001b[39;49m\u001b[43mload\u001b[49m\u001b[43m(\u001b[49m\u001b[43m)\u001b[49m\n\u001b[0;32m      7\u001b[0m \u001b[38;5;66;03m# text_splitter = CharacterTextSplitter(chunk_size=10, chunk_overlap=0)#separator=\"\\n\"\u001b[39;00m\n\u001b[0;32m      8\u001b[0m \u001b[38;5;66;03m# docs = text_splitter.split_documents(documents)\u001b[39;00m\n\u001b[0;32m      9\u001b[0m \u001b[38;5;66;03m# db = FAISS.from_documents(docs, embeddings)\u001b[39;00m\n\u001b[0;32m     10\u001b[0m \u001b[38;5;66;03m# print(db.index.ntotal)\u001b[39;00m\n",
      "File \u001b[1;32me:\\practice\\wasser_task\\Lib\\site-packages\\langchain_core\\document_loaders\\base.py:29\u001b[0m, in \u001b[0;36mBaseLoader.load\u001b[1;34m(self)\u001b[0m\n\u001b[0;32m     27\u001b[0m \u001b[38;5;28;01mdef\u001b[39;00m \u001b[38;5;21mload\u001b[39m(\u001b[38;5;28mself\u001b[39m) \u001b[38;5;241m-\u001b[39m\u001b[38;5;241m>\u001b[39m List[Document]:\n\u001b[0;32m     28\u001b[0m \u001b[38;5;250m    \u001b[39m\u001b[38;5;124;03m\"\"\"Load data into Document objects.\"\"\"\u001b[39;00m\n\u001b[1;32m---> 29\u001b[0m     \u001b[38;5;28;01mreturn\u001b[39;00m \u001b[38;5;28;43mlist\u001b[39;49m\u001b[43m(\u001b[49m\u001b[38;5;28;43mself\u001b[39;49m\u001b[38;5;241;43m.\u001b[39;49m\u001b[43mlazy_load\u001b[49m\u001b[43m(\u001b[49m\u001b[43m)\u001b[49m\u001b[43m)\u001b[49m\n",
      "File \u001b[1;32me:\\practice\\wasser_task\\Lib\\site-packages\\langchain_community\\document_loaders\\text.py:56\u001b[0m, in \u001b[0;36mTextLoader.lazy_load\u001b[1;34m(self)\u001b[0m\n\u001b[0;32m     54\u001b[0m                 \u001b[38;5;28;01mcontinue\u001b[39;00m\n\u001b[0;32m     55\u001b[0m     \u001b[38;5;28;01melse\u001b[39;00m:\n\u001b[1;32m---> 56\u001b[0m         \u001b[38;5;28;01mraise\u001b[39;00m \u001b[38;5;167;01mRuntimeError\u001b[39;00m(\u001b[38;5;124mf\u001b[39m\u001b[38;5;124m\"\u001b[39m\u001b[38;5;124mError loading \u001b[39m\u001b[38;5;132;01m{\u001b[39;00m\u001b[38;5;28mself\u001b[39m\u001b[38;5;241m.\u001b[39mfile_path\u001b[38;5;132;01m}\u001b[39;00m\u001b[38;5;124m\"\u001b[39m) \u001b[38;5;28;01mfrom\u001b[39;00m \u001b[38;5;21;01me\u001b[39;00m\n\u001b[0;32m     57\u001b[0m \u001b[38;5;28;01mexcept\u001b[39;00m \u001b[38;5;167;01mException\u001b[39;00m \u001b[38;5;28;01mas\u001b[39;00m e:\n\u001b[0;32m     58\u001b[0m     \u001b[38;5;28;01mraise\u001b[39;00m \u001b[38;5;167;01mRuntimeError\u001b[39;00m(\u001b[38;5;124mf\u001b[39m\u001b[38;5;124m\"\u001b[39m\u001b[38;5;124mError loading \u001b[39m\u001b[38;5;132;01m{\u001b[39;00m\u001b[38;5;28mself\u001b[39m\u001b[38;5;241m.\u001b[39mfile_path\u001b[38;5;132;01m}\u001b[39;00m\u001b[38;5;124m\"\u001b[39m) \u001b[38;5;28;01mfrom\u001b[39;00m \u001b[38;5;21;01me\u001b[39;00m\n",
      "\u001b[1;31mRuntimeError\u001b[0m: Error loading E:/practice/wasser_task/src/tt.txt"
     ]
    }
   ],
   "source": [
    "from langchain_text_splitters import CharacterTextSplitter\n",
    "from langchain_community.document_loaders import TextLoader\n",
    "from langchain_huggingface import HuggingFaceEmbeddings\n",
    "embeddings = HuggingFaceEmbeddings(model_name=\"all-MiniLM-L6-v2\")\n",
    "loader = TextLoader('E:/practice/wasser_task/src/tt.txt')\n",
    "documents = loader.load()\n"
   ]
  },
  {
   "cell_type": "code",
   "execution_count": 55,
   "metadata": {},
   "outputs": [
    {
     "name": "stderr",
     "output_type": "stream",
     "text": [
      "e:\\practice\\wasser_task\\Lib\\site-packages\\huggingface_hub\\file_download.py:1132: FutureWarning: `resume_download` is deprecated and will be removed in version 1.0.0. Downloads always resume when possible. If you want to force a new download, use `force_download=True`.\n",
      "  warnings.warn(\n"
     ]
    }
   ],
   "source": [
    "from langchain.document_loaders import TextLoader\n",
    "from langchain.embeddings import HuggingFaceEmbeddings\n",
    "from langchain.schema import Document\n",
    "\n",
    "# Step 1: Define the embeddings model\n",
    "embeddings = HuggingFaceEmbeddings(model_name=\"all-MiniLM-L6-v2\")\n",
    "\n",
    "# Step 2: Load the text file with specified encoding\n",
    "file_path = 'E:/practice/wasser_task/src/text01.txt'\n",
    "\n",
    "class EncodedTextLoader(TextLoader):\n",
    "    def load(self) -> list:\n",
    "        with open(self.file_path, 'r', encoding='utf-8') as file:\n",
    "            content = file.read()\n",
    "        \n",
    "        # Handle splitting content into documents if necessary\n",
    "        documents = [Document(page_content=content)]\n",
    "        \n",
    "        return documents\n",
    "\n",
    "# Use the custom loader\n",
    "loader = EncodedTextLoader(file_path)\n",
    "documents = loader.load()\n",
    "\n",
    "# # Step 3: Process the documents with embeddings\n",
    "# for doc in documents:\n",
    "#     doc_embedding = embeddings.embed(doc.page_content)\n",
    "#     print(doc_embedding)\n"
   ]
  },
  {
   "cell_type": "code",
   "execution_count": 81,
   "metadata": {},
   "outputs": [
    {
     "data": {
      "text/plain": [
       "'Artificial Intelligence AI in 2020: From Experimentation to Adoption AI has captured the imagination and attention of people globally. But in the business world, the rate of adoption of artificial intelligence has lagged behind the level of interest through 2019. Even though we hear that most business leaders believe AI provides a competitive advantage, up until recently, some industry watchers have pegged enterprise adoption […] Continue reading Share this post:\\nArtificial Intelligence Watson Anywhere: The Future (Part 3 in a Series) There’s a paradox in the world of AI: While it’s the largest economic opportunity of our lifetime (estimated to contribute $16 trillion to GDP by 2030), enterprise adoption of AI was less than 4% in 2018. A recent Gartner survey said that the 4% in 2018 has now grown to […] Continue reading Share this post:\\nRecent Comments jintu on Embracing Hybrid Cloud, AI for the Modern App Revolution Peter Fay on Accessibility: The Intersection of Innovation and Inclusion Diane Margaretos on Accessibility: The Intersection of Innovation and Inclusion SAURABH JAIN on Refining the Expanding Role of Hybrid Cloud Rohtash Kumar on Refining the Expanding Role of Hybrid Cloud Archives November 2020 October 2020 August 2020 July 2020 June 2020 May 2020 April 2020 March 2020 February 2020 January 2020 December 2019 November 2019 Categories 5G Accessibility Agile Methods AI Analytics Apollo Artificial Intelligence Augmented Reality Auto Industry Automation Banking Benefits Big Data Blockchain Branding business analytics Call for Code Chief Data Officers Citizen IBM Cloud Computing Cloud Computing Cognitive Banking Cognitive Commerce Cognitive Computing Cognitive Computing Cognitive Enterprise Cognitive Retail Cognitive Utilities Collaboration Commerce Consumer Behavior Corporate Citizenship COVID-19 Customer Analytics Cyber Security Cybersecurity Data Analytics Data Governance Data Responsibility Data Science Data Visualization Databases DataOps Deep Learning Design Thinking Development Diversity & Inclusion Earth Day eCommerce & Merchandising Education Electronics Enterprise Strong ERP Events Exponential Learning Financial Services FinTech Flash Storage GDPR Health & Wellness High Performance Computing Hybrid Cloud Hybrid Multicloud IBM Cloud IBM Cloud Private IBM Cloud Video IBM Global Services IBM Policy IBM Power IBM Research IBM Security IBM Watson IBM Watson In Memoriam Industries: Automotive Innovation Internet of Things Internet of Things (IoT) IoT Leadership Machine Learning Marketing Media & Entertainment Mobile Computing Multi-Cloud New Collar Jobs NLP Oil & Gas Open Source Software OpenPOWER P-TECH Partnerships Patents Payments Perspectives Power Public Statement Quantum Computing Red Hat Resiliency Retail security Skills Smart banking Smart Grid Smarter Financial Services Smarter Industries Smarter Planet Smarter Security Social Business Social Good Space Exploration Sports Innovation STEM Supercomputing Supply Chain Systems Tech For Good Technology Services Telecom The Weather Company THINK Think 2018 This Is Watson Transportation Uncategorized Veterans Water Watson Financial Services Watson Health Watson IOT Weather Wellness Women in Tech World Community Grid World Oceans Day Z Meta Log in Entries RSS Comments RSS WordPress.org\\nArtificial Intelligence AI is Not Magic: It’s Time to Demystify and Apply For centuries, electricity was thought to be the domain of sorcerers – magicians who left audiences puzzled about where it came from and how it was generated. And although Benjamin Franklin and his contemporaries were well aware of the phenomena when he proved the connection between electricity and lightning, he had difficulty envisioning a practical […] Continue reading Share this post:\\nArtificial Intelligence A New Way to Accelerate Your AI Plans Building artificial intelligence (AI) systems involves more than learning how to perform a specific task from data; it requires a strong data foundation and infrastructure architecture. This foundation, as my colleagues have said on this blog many times, assists organizations large and small as they scale the Ladder to AI. As CDO of this great […] Continue reading Share this post:\\nArtificial Intelligence Winning with AI Since the year 2000, 52% of the companies that make up the Fortune 500 have disappeared. They have been acquired, succumbed to performance atrophy, or declared bankruptcy. In this hyper-competitive marketplace, winners and losers are being declared every day. And while artificial intelligence (AI) can be the valve to these pressures, for many, drafting a […] Continue reading Share this post:\\nArtificial Intelligence Scaling the AI Ladder The first automobile was driven down the streets of Detroit in 1890. It would take another 30 years before Henry Ford streamlined production and made cars available to the mass market. The obvious lesson: sometimes technology has a long gestation period, before we can scale it for everyday use. But, digging a bit deeper, there […] Continue reading Share this post:\\nArtificial Intelligence Future Designers Unleash Creativity with AI At Tommy Hilfiger, we have always been industry pioneers and driven by our vision to break conventions. We are constantly seeking\\xa0new ways to evolve and respond to our consumer’s expectations. In this age of newness, it’s more important than ever to evolve and deliver on the instant gratification that consumers are looking for. Two\\xa0years\\xa0ago,\\xa0we had\\xa0the\\xa0unique […] Continue reading Share this post:\\nArtificial Intelligence Five Emerging Trends in Technology Support Services In recent years, the field of technology support has evolved rapidly to catch up with disruptive services technologies. In the meantime, technology innovation has led to fundamental changes in how support services are delivered. We highlight the following five technology trends expected to drive the evolution of the technology support services industry, and to shape […] Continue reading Share this post:\\nArtificial Intelligence How to Accelerate the Use of AI in Organizations Open any business publication or digital journal today, and you will read about the promise of AI, known as artificial or augmented intelligence, and how it will transform your business. The fact is, AI will not only transform your entire business, whether you are in health care, finance, retail or manufacturing, but it will also […] Continue reading Share this post:\\nArtificial Intelligence The Importance of Creating a Culture of Data Using and exploiting artificial intelligence (AI), is a goal for many enterprises around the world. Of course, before you can begin working with the cognitive technology, a number steps have to be taken. For starters, AI requires machine learning and machine learning, requires analytics. And to work with analytics effectively, you need a simple, elegant […] Continue reading Share this post:\\nArtificial Intelligence How IBM and Salesforce Are Challenging Traditional Business Models Since unveiling our partnership with Salesforce in March, we’ve worked together to champion the impact of AI across all facets of business, helping companies across all industries make smarter decisions, faster than ever before. Today, at Salesforce’s annual Dreamforce conference, IBM’s Chairman, President and CEO Ginni Rometty will join Salesforce Chairman and CEO, Marc Benioff, […] Continue reading Share this post:\\nArtificial Intelligence A Parable: “The Blind GPUs and the Elephant” “…Each blind man feels a different part of the elephant body, but only one part, such as the side or the tusk. They then describe the elephant based on their partial experience and their descriptions are in complete disagreement on what an elephant is.” –\\xa0The Rigveda This parable is helpful describing the problem that we […] Continue reading Share this post:\\n'"
      ]
     },
     "execution_count": 81,
     "metadata": {},
     "output_type": "execute_result"
    }
   ],
   "source": [
    "documents[0].page_content"
   ]
  },
  {
   "cell_type": "code",
   "execution_count": 97,
   "metadata": {},
   "outputs": [
    {
     "name": "stdout",
     "output_type": "stream",
     "text": [
      "27\n"
     ]
    }
   ],
   "source": [
    "text_splitter = CharacterTextSplitter(chunk_size=300,chunk_overlap=0,separator='')#separator=\"\\n\"\n",
    "docs = text_splitter.split_documents(documents)\n",
    "db = FAISS.from_documents(docs, embeddings)\n",
    "print(db.index.ntotal)"
   ]
  },
  {
   "cell_type": "code",
   "execution_count": 98,
   "metadata": {},
   "outputs": [
    {
     "data": {
      "text/plain": [
       "[Document(page_content='Artificial Intelligence AI in 2020: From Experimentation to Adoption AI has captured the imagination and attention of people globally. But in the business world, the rate of adoption of artificial intelligence has lagged behind the level of interest through 2019. Even though we hear that most busine'),\n",
       " Document(page_content='ss leaders believe AI provides a competitive advantage, up until recently, some industry watchers have pegged enterprise adoption […] Continue reading Share this post:\\nArtificial Intelligence Watson Anywhere: The Future (Part 3 in a Series) There’s a paradox in the world of AI: While it’s the larges'),\n",
       " Document(page_content='t economic opportunity of our lifetime (estimated to contribute $16 trillion to GDP by 2030), enterprise adoption of AI was less than 4% in 2018. A recent Gartner survey said that the 4% in 2018 has now grown to […] Continue reading Share this post:\\nRecent Comments jintu on Embracing Hybrid Cloud, A'),\n",
       " Document(page_content='I for the Modern App Revolution Peter Fay on Accessibility: The Intersection of Innovation and Inclusion Diane Margaretos on Accessibility: The Intersection of Innovation and Inclusion SAURABH JAIN on Refining the Expanding Role of Hybrid Cloud Rohtash Kumar on Refining the Expanding Role of Hybrid'),\n",
       " Document(page_content='Cloud Archives November 2020 October 2020 August 2020 July 2020 June 2020 May 2020 April 2020 March 2020 February 2020 January 2020 December 2019 November 2019 Categories 5G Accessibility Agile Methods AI Analytics Apollo Artificial Intelligence Augmented Reality Auto Industry Automation Banking Ben'),\n",
       " Document(page_content='efits Big Data Blockchain Branding business analytics Call for Code Chief Data Officers Citizen IBM Cloud Computing Cloud Computing Cognitive Banking Cognitive Commerce Cognitive Computing Cognitive Computing Cognitive Enterprise Cognitive Retail Cognitive Utilities Collaboration Commerce Consumer B'),\n",
       " Document(page_content='ehavior Corporate Citizenship COVID-19 Customer Analytics Cyber Security Cybersecurity Data Analytics Data Governance Data Responsibility Data Science Data Visualization Databases DataOps Deep Learning Design Thinking Development Diversity & Inclusion Earth Day eCommerce & Merchandising Education El'),\n",
       " Document(page_content='ectronics Enterprise Strong ERP Events Exponential Learning Financial Services FinTech Flash Storage GDPR Health & Wellness High Performance Computing Hybrid Cloud Hybrid Multicloud IBM Cloud IBM Cloud Private IBM Cloud Video IBM Global Services IBM Policy IBM Power IBM Research IBM Security IBM Wat'),\n",
       " Document(page_content='son IBM Watson In Memoriam Industries: Automotive Innovation Internet of Things Internet of Things (IoT) IoT Leadership Machine Learning Marketing Media & Entertainment Mobile Computing Multi-Cloud New Collar Jobs NLP Oil & Gas Open Source Software OpenPOWER P-TECH Partnerships Patents Payments Pers'),\n",
       " Document(page_content='pectives Power Public Statement Quantum Computing Red Hat Resiliency Retail security Skills Smart banking Smart Grid Smarter Financial Services Smarter Industries Smarter Planet Smarter Security Social Business Social Good Space Exploration Sports Innovation STEM Supercomputing Supply Chain Systems'),\n",
       " Document(page_content='Tech For Good Technology Services Telecom The Weather Company THINK Think 2018 This Is Watson Transportation Uncategorized Veterans Water Watson Financial Services Watson Health Watson IOT Weather Wellness Women in Tech World Community Grid World Oceans Day Z Meta Log in Entries RSS Comments RSS Wor'),\n",
       " Document(page_content='dPress.org\\nArtificial Intelligence AI is Not Magic: It’s Time to Demystify and Apply For centuries, electricity was thought to be the domain of sorcerers – magicians who left audiences puzzled about where it came from and how it was generated. And although Benjamin Franklin and his contemporaries we'),\n",
       " Document(page_content='re well aware of the phenomena when he proved the connection between electricity and lightning, he had difficulty envisioning a practical […] Continue reading Share this post:\\nArtificial Intelligence A New Way to Accelerate Your AI Plans Building artificial intelligence (AI) systems involves more th'),\n",
       " Document(page_content='an learning how to perform a specific task from data; it requires a strong data foundation and infrastructure architecture. This foundation, as my colleagues have said on this blog many times, assists organizations large and small as they scale the Ladder to AI. As CDO of this great […] Continue rea'),\n",
       " Document(page_content='ding Share this post:\\nArtificial Intelligence Winning with AI Since the year 2000, 52% of the companies that make up the Fortune 500 have disappeared. They have been acquired, succumbed to performance atrophy, or declared bankruptcy. In this hyper-competitive marketplace, winners and losers are bein'),\n",
       " Document(page_content='g declared every day. And while artificial intelligence (AI) can be the valve to these pressures, for many, drafting a […] Continue reading Share this post:\\nArtificial Intelligence Scaling the AI Ladder The first automobile was driven down the streets of Detroit in 1890. It would take another 30 yea'),\n",
       " Document(page_content='rs before Henry Ford streamlined production and made cars available to the mass market. The obvious lesson: sometimes technology has a long gestation period, before we can scale it for everyday use. But, digging a bit deeper, there […] Continue reading Share this post:\\nArtificial Intelligence Future'),\n",
       " Document(page_content='Designers Unleash Creativity with AI At Tommy Hilfiger, we have always been industry pioneers and driven by our vision to break conventions. We are constantly seeking\\xa0new ways to evolve and respond to our consumer’s expectations. In this age of newness, it’s more important than ever to evolve and d'),\n",
       " Document(page_content='eliver on the instant gratification that consumers are looking for. Two\\xa0years\\xa0ago,\\xa0we had\\xa0the\\xa0unique […] Continue reading Share this post:\\nArtificial Intelligence Five Emerging Trends in Technology Support Services In recent years, the field of technology support has evolved rapidly to catch up with'),\n",
       " Document(page_content='disruptive services technologies. In the meantime, technology innovation has led to fundamental changes in how support services are delivered. We highlight the following five technology trends expected to drive the evolution of the technology support services industry, and to shape […] Continue rea'),\n",
       " Document(page_content='ding Share this post:\\nArtificial Intelligence How to Accelerate the Use of AI in Organizations Open any business publication or digital journal today, and you will read about the promise of AI, known as artificial or augmented intelligence, and how it will transform your business. The fact is, AI wi'),\n",
       " Document(page_content='ll not only transform your entire business, whether you are in health care, finance, retail or manufacturing, but it will also […] Continue reading Share this post:\\nArtificial Intelligence The Importance of Creating a Culture of Data Using and exploiting artificial intelligence (AI), is a goal for m'),\n",
       " Document(page_content='any enterprises around the world. Of course, before you can begin working with the cognitive technology, a number steps have to be taken. For starters, AI requires machine learning and machine learning, requires analytics. And to work with analytics effectively, you need a simple, elegant […] Contin'),\n",
       " Document(page_content='ue reading Share this post:\\nArtificial Intelligence How IBM and Salesforce Are Challenging Traditional Business Models Since unveiling our partnership with Salesforce in March, we’ve worked together to champion the impact of AI across all facets of business, helping companies across all industries m'),\n",
       " Document(page_content='ake smarter decisions, faster than ever before. Today, at Salesforce’s annual Dreamforce conference, IBM’s Chairman, President and CEO Ginni Rometty will join Salesforce Chairman and CEO, Marc Benioff, […] Continue reading Share this post:\\nArtificial Intelligence A Parable: “The Blind GPUs and the E'),\n",
       " Document(page_content='lephant” “…Each blind man feels a different part of the elephant body, but only one part, such as the side or the tusk. They then describe the elephant based on their partial experience and their descriptions are in complete disagreement on what an elephant is.” –\\xa0The Rigveda This parable is helpful'),\n",
       " Document(page_content='describing the problem that we […] Continue reading Share this post:')]"
      ]
     },
     "execution_count": 98,
     "metadata": {},
     "output_type": "execute_result"
    }
   ],
   "source": [
    "text_splitter = CharacterTextSplitter(chunk_size=300,chunk_overlap=0,separator='')#separator=\"\\n\"\n",
    "docs = text_splitter.split_text(documents[0].page_content)\n",
    "db = FAISS.from_documents(docs, embeddings)\n",
    "print(db.index.ntotal)\n",
    "docs"
   ]
  },
  {
   "cell_type": "code",
   "execution_count": 99,
   "metadata": {},
   "outputs": [],
   "source": [
    "import pickle\n",
    "with open('faiss_index.pkl', 'wb') as f:\n",
    "    pickle.dump(db, f)"
   ]
  },
  {
   "cell_type": "code",
   "execution_count": 62,
   "metadata": {},
   "outputs": [],
   "source": [
    "with open('faiss_index.pkl', 'rb') as f:\n",
    "    db1 = pickle.load(f)"
   ]
  },
  {
   "cell_type": "code",
   "execution_count": 38,
   "metadata": {},
   "outputs": [],
   "source": [
    "# db.save_local(\"faiss_index01\")"
   ]
  },
  {
   "cell_type": "code",
   "execution_count": 10,
   "metadata": {},
   "outputs": [
    {
     "ename": "AttributeError",
     "evalue": "'tuple' object has no attribute 'page_content'",
     "output_type": "error",
     "traceback": [
      "\u001b[1;31m---------------------------------------------------------------------------\u001b[0m",
      "\u001b[1;31mAttributeError\u001b[0m                            Traceback (most recent call last)",
      "Cell \u001b[1;32mIn[10], line 35\u001b[0m\n\u001b[0;32m     32\u001b[0m model \u001b[38;5;241m=\u001b[39m SentenceTransformer(\u001b[38;5;124m'\u001b[39m\u001b[38;5;124msentence-transformers/all-MiniLM-L6-v2\u001b[39m\u001b[38;5;124m'\u001b[39m)\n\u001b[0;32m     34\u001b[0m \u001b[38;5;66;03m# Create a FAISS index\u001b[39;00m\n\u001b[1;32m---> 35\u001b[0m faiss_index \u001b[38;5;241m=\u001b[39m \u001b[43mFAISS\u001b[49m\u001b[38;5;241;43m.\u001b[39;49m\u001b[43mfrom_documents\u001b[49m\u001b[43m(\u001b[49m\u001b[43membeddings\u001b[49m\u001b[43m,\u001b[49m\u001b[43m \u001b[49m\u001b[43mloader\u001b[49m\u001b[43m)\u001b[49m\n\u001b[0;32m     37\u001b[0m \u001b[38;5;66;03m# Save the FAISS index to a file\u001b[39;00m\n\u001b[0;32m     38\u001b[0m faiss_index\u001b[38;5;241m.\u001b[39msave(\u001b[38;5;124m'\u001b[39m\u001b[38;5;124mfaiss_index\u001b[39m\u001b[38;5;124m'\u001b[39m)\n",
      "File \u001b[1;32me:\\practice\\wasser_task\\Lib\\site-packages\\langchain_core\\vectorstores.py:633\u001b[0m, in \u001b[0;36mVectorStore.from_documents\u001b[1;34m(cls, documents, embedding, **kwargs)\u001b[0m\n\u001b[0;32m    620\u001b[0m \u001b[38;5;129m@classmethod\u001b[39m\n\u001b[0;32m    621\u001b[0m \u001b[38;5;28;01mdef\u001b[39;00m \u001b[38;5;21mfrom_documents\u001b[39m(\n\u001b[0;32m    622\u001b[0m     \u001b[38;5;28mcls\u001b[39m: Type[VST],\n\u001b[1;32m   (...)\u001b[0m\n\u001b[0;32m    625\u001b[0m     \u001b[38;5;241m*\u001b[39m\u001b[38;5;241m*\u001b[39mkwargs: Any,\n\u001b[0;32m    626\u001b[0m ) \u001b[38;5;241m-\u001b[39m\u001b[38;5;241m>\u001b[39m VST:\n\u001b[0;32m    627\u001b[0m \u001b[38;5;250m    \u001b[39m\u001b[38;5;124;03m\"\"\"Return VectorStore initialized from documents and embeddings.\u001b[39;00m\n\u001b[0;32m    628\u001b[0m \n\u001b[0;32m    629\u001b[0m \u001b[38;5;124;03m    Args:\u001b[39;00m\n\u001b[0;32m    630\u001b[0m \u001b[38;5;124;03m        documents: List of Documents to add to the vectorstore.\u001b[39;00m\n\u001b[0;32m    631\u001b[0m \u001b[38;5;124;03m        embedding: Embedding function to use.\u001b[39;00m\n\u001b[0;32m    632\u001b[0m \u001b[38;5;124;03m    \"\"\"\u001b[39;00m\n\u001b[1;32m--> 633\u001b[0m     texts \u001b[38;5;241m=\u001b[39m \u001b[43m[\u001b[49m\u001b[43md\u001b[49m\u001b[38;5;241;43m.\u001b[39;49m\u001b[43mpage_content\u001b[49m\u001b[43m \u001b[49m\u001b[38;5;28;43;01mfor\u001b[39;49;00m\u001b[43m \u001b[49m\u001b[43md\u001b[49m\u001b[43m \u001b[49m\u001b[38;5;129;43;01min\u001b[39;49;00m\u001b[43m \u001b[49m\u001b[43mdocuments\u001b[49m\u001b[43m]\u001b[49m\n\u001b[0;32m    634\u001b[0m     metadatas \u001b[38;5;241m=\u001b[39m [d\u001b[38;5;241m.\u001b[39mmetadata \u001b[38;5;28;01mfor\u001b[39;00m d \u001b[38;5;129;01min\u001b[39;00m documents]\n\u001b[0;32m    635\u001b[0m     \u001b[38;5;28;01mreturn\u001b[39;00m \u001b[38;5;28mcls\u001b[39m\u001b[38;5;241m.\u001b[39mfrom_texts(texts, embedding, metadatas\u001b[38;5;241m=\u001b[39mmetadatas, \u001b[38;5;241m*\u001b[39m\u001b[38;5;241m*\u001b[39mkwargs)\n",
      "File \u001b[1;32me:\\practice\\wasser_task\\Lib\\site-packages\\langchain_core\\vectorstores.py:633\u001b[0m, in \u001b[0;36m<listcomp>\u001b[1;34m(.0)\u001b[0m\n\u001b[0;32m    620\u001b[0m \u001b[38;5;129m@classmethod\u001b[39m\n\u001b[0;32m    621\u001b[0m \u001b[38;5;28;01mdef\u001b[39;00m \u001b[38;5;21mfrom_documents\u001b[39m(\n\u001b[0;32m    622\u001b[0m     \u001b[38;5;28mcls\u001b[39m: Type[VST],\n\u001b[1;32m   (...)\u001b[0m\n\u001b[0;32m    625\u001b[0m     \u001b[38;5;241m*\u001b[39m\u001b[38;5;241m*\u001b[39mkwargs: Any,\n\u001b[0;32m    626\u001b[0m ) \u001b[38;5;241m-\u001b[39m\u001b[38;5;241m>\u001b[39m VST:\n\u001b[0;32m    627\u001b[0m \u001b[38;5;250m    \u001b[39m\u001b[38;5;124;03m\"\"\"Return VectorStore initialized from documents and embeddings.\u001b[39;00m\n\u001b[0;32m    628\u001b[0m \n\u001b[0;32m    629\u001b[0m \u001b[38;5;124;03m    Args:\u001b[39;00m\n\u001b[0;32m    630\u001b[0m \u001b[38;5;124;03m        documents: List of Documents to add to the vectorstore.\u001b[39;00m\n\u001b[0;32m    631\u001b[0m \u001b[38;5;124;03m        embedding: Embedding function to use.\u001b[39;00m\n\u001b[0;32m    632\u001b[0m \u001b[38;5;124;03m    \"\"\"\u001b[39;00m\n\u001b[1;32m--> 633\u001b[0m     texts \u001b[38;5;241m=\u001b[39m [\u001b[43md\u001b[49m\u001b[38;5;241;43m.\u001b[39;49m\u001b[43mpage_content\u001b[49m \u001b[38;5;28;01mfor\u001b[39;00m d \u001b[38;5;129;01min\u001b[39;00m documents]\n\u001b[0;32m    634\u001b[0m     metadatas \u001b[38;5;241m=\u001b[39m [d\u001b[38;5;241m.\u001b[39mmetadata \u001b[38;5;28;01mfor\u001b[39;00m d \u001b[38;5;129;01min\u001b[39;00m documents]\n\u001b[0;32m    635\u001b[0m     \u001b[38;5;28;01mreturn\u001b[39;00m \u001b[38;5;28mcls\u001b[39m\u001b[38;5;241m.\u001b[39mfrom_texts(texts, embedding, metadatas\u001b[38;5;241m=\u001b[39mmetadatas, \u001b[38;5;241m*\u001b[39m\u001b[38;5;241m*\u001b[39mkwargs)\n",
      "\u001b[1;31mAttributeError\u001b[0m: 'tuple' object has no attribute 'page_content'"
     ]
    }
   ],
   "source": [
    "from langchain_community.vectorstores import FAISS\n",
    "from sentence_transformers import SentenceTransformer\n",
    "from langchain.document_loaders.base import BaseLoader\n",
    "from langchain.schema import Document\n",
    "\n",
    "from langchain_huggingface import HuggingFaceEmbeddings\n",
    "\n",
    "embeddings = HuggingFaceEmbeddings(model_name=\"all-MiniLM-L6-v2\")\n",
    "\n",
    "class ListDocumentLoader(BaseLoader):\n",
    "    def __init__(self, sentences: list):\n",
    "        self.sentences = sentences\n",
    "\n",
    "    def load(self) -> list:\n",
    "        return [Document(page_content=sentence) for sentence in self.sentences]\n",
    "\n"
   ]
  },
  {
   "cell_type": "code",
   "execution_count": 25,
   "metadata": {},
   "outputs": [
    {
     "name": "stdout",
     "output_type": "stream",
     "text": [
      "Faiss index loaded from file.\n"
     ]
    }
   ],
   "source": [
    "import faiss\n",
    "\n",
    "# Load the index from the file\n",
    "loaded_index = faiss.read_index('E:/practice/wasser_task/src/faiss_index.idx')\n",
    "\n",
    "print(\"Faiss index loaded from file.\")"
   ]
  },
  {
   "cell_type": "code",
   "execution_count": 29,
   "metadata": {},
   "outputs": [
    {
     "name": "stdout",
     "output_type": "stream",
     "text": [
      "Query: 'what is Experimentation and Adoption AI'\n",
      "Similar Sentence: 'Artificial Intelligence AI in 2020: From Experimentation to Adoption AI has captured the imagination and attention of people globally. But in the business world, the rate of adoption of artificial intelligence has lagged behind the level of interest through 2019. Even though we hear that most business leaders believe AI provides a competitive advantage, up until recently, some industry watchers have pegged enterprise adoption […] Continue reading Share this post:' with index 0\n",
      "Similar Sentence: 'Artificial Intelligence Watson Anywhere: The Future (Part 3 in a Series) There’s a paradox in the world of AI: While it’s the largest economic opportunity of our lifetime (estimated to contribute $16 trillion to GDP by 2030), enterprise adoption of AI was less than 4% in 2018. A recent Gartner survey said that the 4% in 2018 has now grown to […] Continue reading Share this post:' with index 1\n",
      "Similar Sentence: 'Artificial Intelligence The Importance of Creating a Culture of Data Using and exploiting artificial intelligence (AI), is a goal for many enterprises around the world. Of course, before you can begin working with the cognitive technology, a number steps have to be taken. For starters, AI requires machine learning and machine learning, requires analytics. And to work with analytics effectively, you need a simple, elegant […] Continue reading Share this post:' with index 10\n",
      "Distances: [[0.93359673 1.128738   1.1799948 ]]\n"
     ]
    }
   ],
   "source": [
    "# Define a query sentence\n",
    "query_sentence = \"what is Experimentation and Adoption AI\"\n",
    "\n",
    "# Encode the query sentence\n",
    "query_embedding = model.encode([query_sentence]).astype('float32')\n",
    "\n",
    "# Search for the top 2 most similar sentences\n",
    "D, I = loaded_index.search(query_embedding, 3)\n",
    "\n",
    "# Print the results\n",
    "print(f\"Query: '{query_sentence}'\")\n",
    "for idx in I[0]:\n",
    "    print(f\"Similar Sentence: '{weather_data[idx]}' with index {idx}\")\n",
    "\n",
    "# The distances\n",
    "print(f\"Distances: {D}\")\n"
   ]
  },
  {
   "cell_type": "code",
   "execution_count": 30,
   "metadata": {},
   "outputs": [
    {
     "name": "stdout",
     "output_type": "stream",
     "text": [
      "Query sentence: what is Experimentation and Adoption AI\n",
      "Top 3 similar sentences indices and distances:\n",
      "Index: 0, Distance: 0.9335967302322388\n",
      "Index: 1, Distance: 1.1287380456924438\n",
      "Index: 10, Distance: 1.179994821548462\n"
     ]
    }
   ],
   "source": [
    "print(\"Query sentence:\", query_sentence)\n",
    "print(\"Top 3 similar sentences indices and distances:\")\n",
    "for i in range(3):\n",
    "    print(f\"Index: {I[0][i]}, Distance: {D[0][i]}\")"
   ]
  },
  {
   "cell_type": "code",
   "execution_count": 34,
   "metadata": {},
   "outputs": [],
   "source": [
    "from langchain_core.document_loaders import BaseBlobParser, Blob\n",
    "from typing import Iterator\n",
    "\n",
    "class MyParser(BaseBlobParser):\n",
    "    \"\"\"A simple parser that creates a document from each line.\"\"\"\n",
    "\n",
    "    def lazy_parse(self, blob: Blob) -> Iterator[Document]:\n",
    "        \"\"\"Parse a blob into a document line by line.\"\"\"\n",
    "        line_number = 0\n",
    "        with blob.as_bytes_io() as f:\n",
    "            for line in f:\n",
    "                line_number += 1\n",
    "                yield Document(\n",
    "                    page_content=line,\n",
    "                    metadata={\"line_number\": line_number, \"source\": blob.source},\n",
    "                )"
   ]
  },
  {
   "cell_type": "code",
   "execution_count": 41,
   "metadata": {},
   "outputs": [],
   "source": [
    "blob = Blob.from_path(\"./tt.txt\")\n",
    "parser = MyParser()\n",
    "list_of_documents=list(parser.lazy_parse(blob))"
   ]
  },
  {
   "cell_type": "code",
   "execution_count": 45,
   "metadata": {},
   "outputs": [
    {
     "data": {
      "text/plain": [
       "[Document(page_content='Artificial Intelligence AI in 2020 From Experimentation to Adoption AI has captured the imagination and attention of people globally. But in the business world, the rate of adoption of artificial intelligence has lagged behind the level of interest through 2019. Even though we hear that most business leaders believe AI provides a competitive advantage, up until recently, some industry watchers have pegged enterprise adoption\\r\\n', metadata={'line_number': 1, 'source': './tt.txt'}),\n",
       " Document(page_content='Artificial Intelligence Watson Anywhere The Future (Part 3 in a Series) There’s a paradox in the world of AI While it’s the largest economic opportunity of our lifetime (estimated to contribute $16 trillion to GDP by 2030), enterprise adoption of AI was less than 4% in 2018. A recent Gartner survey said that the 4% in 2018 has now grown to\\r\\n', metadata={'line_number': 2, 'source': './tt.txt'}),\n",
       " Document(page_content='Artificial Intelligence The Importance of Creating a Culture of Data Using and exploiting artificial intelligence (AI), is a goal for many enterprises around the world. Of course, before you can begin working with the cognitive technology, a number steps have to be taken. For starters, AI requires machine learning and machine learning, requires analytics. And to work with analytics effectively, you need a simple, elegant\\r\\n', metadata={'line_number': 9, 'source': './tt.txt'})]"
      ]
     },
     "execution_count": 45,
     "metadata": {},
     "output_type": "execute_result"
    }
   ],
   "source": [
    "db = FAISS.from_documents(list_of_documents, embeddings)\n",
    "doc = db.similarity_search(\"Experimentation to Adoption AI\",k=3)\n",
    "doc"
   ]
  },
  {
   "cell_type": "code",
   "execution_count": 105,
   "metadata": {},
   "outputs": [
    {
     "data": {
      "text/plain": [
       "[Document(page_content='Artificial Intelligence AI in 2020: From Experimentation to Adoption AI has captured the imagination and attention of people globally. But in the business world, the rate of adoption of artificial intelligence has lagged behind the level of interest through 2019. Even though we hear that most business leaders believe AI provides a competitive advantage, up until recently, some industry watchers have pegged enterprise adoption […] Continue reading Share this post:\\nArtificial Intelligence Watson A'),\n",
       " Document(page_content='ding Share this post:\\nArtificial Intelligence How to Accelerate the Use of AI in Organizations Open any business publication or digital journal today, and you will read about the promise of AI, known as artificial or augmented intelligence, and how it will transform your business. The fact is, AI will not only transform your entire business, whether you are in health care, finance, retail or manufacturing, but it will also […] Continue reading Share this post:\\nArtificial Intelligence The Importa'),\n",
       " Document(page_content='nce of Creating a Culture of Data Using and exploiting artificial intelligence (AI), is a goal for many enterprises around the world. Of course, before you can begin working with the cognitive technology, a number steps have to be taken. For starters, AI requires machine learning and machine learning, requires analytics. And to work with analytics effectively, you need a simple, elegant […] Continue reading Share this post:\\nArtificial Intelligence How IBM and Salesforce Are Challenging Tradition')]"
      ]
     },
     "execution_count": 105,
     "metadata": {},
     "output_type": "execute_result"
    }
   ],
   "source": [
    "doc = db1.similarity_search(\"Experimentation to Adoption AI\",k=3)\n",
    "doc"
   ]
  },
  {
   "cell_type": "code",
   "execution_count": null,
   "metadata": {},
   "outputs": [],
   "source": []
  },
  {
   "cell_type": "code",
   "execution_count": null,
   "metadata": {},
   "outputs": [],
   "source": []
  },
  {
   "cell_type": "code",
   "execution_count": 103,
   "metadata": {},
   "outputs": [
    {
     "name": "stdout",
     "output_type": "stream",
     "text": [
      "16\n"
     ]
    }
   ],
   "source": [
    "import requests\n",
    "import time\n",
    "from bs4 import BeautifulSoup\n",
    "from langchain.document_loaders import TextLoader\n",
    "from langchain.embeddings import HuggingFaceEmbeddings\n",
    "from langchain.schema import Document\n",
    "\n",
    "wp_api_url = 'https://www.ibm.com/blogs/think/category/artificial-intelligence/'\n",
    "weather_data = []\n",
    "\n",
    "headers = {'User-Agent': 'Mozilla/5.0 (platform; rv:geckoversion) Gecko/geckotrail Firefox/firefoxversion'}\n",
    "response = requests.get(f'{wp_api_url}', headers=headers).text\n",
    "soup = BeautifulSoup(response, 'lxml')\n",
    "\n",
    "for i in soup.find_all('div',class_=\"ibm-card\"):\n",
    "    weather_data.append(i.get_text(\" \", strip=True))\n",
    "\n",
    "\n",
    "file_path = 'text01.txt'\n",
    "\n",
    "with open(file_path, 'w', encoding='utf-8') as file:\n",
    "    for sentence in weather_data:\n",
    "        file.write(sentence + '\\n')\n",
    "\n",
    "# Step 1: Define the embeddings model\n",
    "embeddings = HuggingFaceEmbeddings(model_name=\"all-MiniLM-L6-v2\")\n",
    "\n",
    "# Step 2: Load the text file with specified encoding\n",
    "file_path = 'E:/practice/wasser_task/src/text01.txt'\n",
    "\n",
    "class EncodedTextLoader(TextLoader):\n",
    "    def load(self) -> list:\n",
    "        with open(self.file_path, 'r', encoding='utf-8') as file:\n",
    "            content = file.read()\n",
    "        \n",
    "        # Handle splitting content into documents if necessary\n",
    "        documents = [Document(page_content=content)]\n",
    "        \n",
    "        return documents\n",
    "\n",
    "# Use the custom loader\n",
    "loader = EncodedTextLoader(file_path)\n",
    "documents = loader.load()\n",
    "\n",
    "text_splitter = CharacterTextSplitter(chunk_size=500,chunk_overlap=0,separator='')#separator=\"\\n\"\n",
    "docs = text_splitter.split_documents(documents)\n",
    "db = FAISS.from_documents(docs, embeddings)\n",
    "print(db.index.ntotal)\n",
    "\n",
    "import pickle\n",
    "with open('faiss_index.pkl', 'wb') as f:\n",
    "    pickle.dump(db, f)"
   ]
  },
  {
   "cell_type": "code",
   "execution_count": 6,
   "metadata": {},
   "outputs": [
    {
     "name": "stderr",
     "output_type": "stream",
     "text": [
      "e:\\practice\\wasser_task\\Lib\\site-packages\\sentence_transformers\\cross_encoder\\CrossEncoder.py:11: TqdmWarning: IProgress not found. Please update jupyter and ipywidgets. See https://ipywidgets.readthedocs.io/en/stable/user_install.html\n",
      "  from tqdm.autonotebook import tqdm, trange\n"
     ]
    }
   ],
   "source": [
    "import pickle\n",
    "with open('faiss_index.pkl', 'rb') as f:\n",
    "    db1 = pickle.load(f)"
   ]
  },
  {
   "cell_type": "code",
   "execution_count": 7,
   "metadata": {},
   "outputs": [
    {
     "data": {
      "text/plain": [
       "[Document(page_content='Artificial Intelligence AI in 2020: From Experimentation to Adoption AI has captured the imagination and attention of people globally. But in the business world, the rate of adoption of artificial intelligence has lagged behind the level of interest through 2019. Even though we hear that most business leaders believe AI provides a competitive advantage, up until recently, some industry watchers have pegged enterprise adoption […] Continue reading Share this post:\\nArtificial Intelligence Watson A'),\n",
       " Document(page_content='ding Share this post:\\nArtificial Intelligence How to Accelerate the Use of AI in Organizations Open any business publication or digital journal today, and you will read about the promise of AI, known as artificial or augmented intelligence, and how it will transform your business. The fact is, AI will not only transform your entire business, whether you are in health care, finance, retail or manufacturing, but it will also […] Continue reading Share this post:\\nArtificial Intelligence The Importa'),\n",
       " Document(page_content='nce of Creating a Culture of Data Using and exploiting artificial intelligence (AI), is a goal for many enterprises around the world. Of course, before you can begin working with the cognitive technology, a number steps have to be taken. For starters, AI requires machine learning and machine learning, requires analytics. And to work with analytics effectively, you need a simple, elegant […] Continue reading Share this post:\\nArtificial Intelligence How IBM and Salesforce Are Challenging Tradition')]"
      ]
     },
     "execution_count": 7,
     "metadata": {},
     "output_type": "execute_result"
    }
   ],
   "source": [
    "doc = db1.similarity_search(\"Experimentation to Adoption AI\",k=3)\n",
    "doc"
   ]
  },
  {
   "cell_type": "code",
   "execution_count": 16,
   "metadata": {},
   "outputs": [],
   "source": [
    "from langchain_groq import ChatGroq\n",
    "import os\n",
    "os.environ[\"GROQ_API_KEY\"] = \"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\"\n",
    "\n",
    "\n",
    "llm = ChatGroq(\n",
    "            model=\"llama3-70b-8192\",\n",
    "            max_tokens=80\n",
    "        )"
   ]
  },
  {
   "cell_type": "code",
   "execution_count": 9,
   "metadata": {},
   "outputs": [],
   "source": [
    "from langchain.chains.question_answering import load_qa_chain\n",
    "from langchain.prompts import PromptTemplate"
   ]
  },
  {
   "cell_type": "code",
   "execution_count": 17,
   "metadata": {},
   "outputs": [],
   "source": [
    "prompt_template = \"\"\"If User Greet than Hello Sir How Can May i Help You! Else Answer the question ask by company employee you have to help them and uderstand them company policy as possible using the provided context.If the answer is\n",
    "                        not contained in the context, say \"Please Ask Full Queastion About Policy and Rules Related\" \\n\\n\n",
    "                        Context: \\n {context}?\\n\n",
    "                        Question: \\n {question} \\n\n",
    "                        Answer:\n",
    "                    \"\"\"\n",
    "prompt1 = PromptTemplate(\n",
    "    template=prompt_template, input_variables=[\"context\", \"question\"])\n",
    "# llm = ChatOpenAI(model=\"gpt-3.5-turbo-1106\",max_tokens=70,api_key=open_api)#1106\n",
    "stuff_chain = load_qa_chain(llm, chain_type=\"stuff\", prompt=prompt1)"
   ]
  },
  {
   "cell_type": "code",
   "execution_count": 11,
   "metadata": {},
   "outputs": [],
   "source": [
    "question = \"what is Experimentation to Adoption AI?\"\n",
    "user='mack'"
   ]
  },
  {
   "cell_type": "code",
   "execution_count": 19,
   "metadata": {},
   "outputs": [],
   "source": [
    "stuff_answer = stuff_chain(\n",
    "                    {\"input_documents\": doc, \"question\": question+f' question ask by {user}'}, return_only_outputs=True)"
   ]
  },
  {
   "cell_type": "code",
   "execution_count": 13,
   "metadata": {},
   "outputs": [
    {
     "data": {
      "text/plain": [
       "'Hello Mack! \\n\\nExperimentation to Adoption AI refers to the process of transitioning from testing and exploring Artificial Intelligence (AI) technology to actually implementing and integrating it into business operations. In other words, it\\'s the journey from \"trying out\" AI to making it a core part of the organization\\'s workflow. This involves moving beyond the experimentation phase, where companies are just testing the waters, to actually adopting AI as a key driver of business growth and innovation. Does that make sense, Mack?'"
      ]
     },
     "execution_count": 13,
     "metadata": {},
     "output_type": "execute_result"
    }
   ],
   "source": [
    "stuff_answer['output_text']"
   ]
  },
  {
   "cell_type": "code",
   "execution_count": 15,
   "metadata": {},
   "outputs": [
    {
     "name": "stdout",
     "output_type": "stream",
     "text": [
      "('Hello Mack! Experimentation to Adoption AI refers to the process of '\n",
      " 'transitioning from testing and exploring Artificial Intelligence (AI) '\n",
      " 'technology to actually implementing and integrating it into business '\n",
      " 'operations. In other words, it\\'s the journey from \"trying out\" AI to making '\n",
      " \"it a core part of the organization's workflow. This involves moving beyond \"\n",
      " 'the experimentation phase, where companies are just testing the waters, to '\n",
      " 'actually adopting AI as a key driver of business growth and innovation. Does '\n",
      " 'that make sense, Mack?')\n"
     ]
    }
   ],
   "source": [
    "import pprint\n",
    "pprint.pprint(stuff_answer['output_text'].replace('\\n', ''))"
   ]
  },
  {
   "cell_type": "code",
   "execution_count": 144,
   "metadata": {},
   "outputs": [
    {
     "name": "stdout",
     "output_type": "stream",
     "text": [
      "Hello Mack! According to the context, \"From Experimentation to Adoption\" refers to the progress of Artificial Intelligence (AI) in 2020, where it has moved from the experimentation phase to the adoption phase in the business world. This implies that AI has transitioned from being tested and explored to being actively used and implemented in various industries.\n"
     ]
    }
   ],
   "source": [
    "cleaned_output = stuff_answer['output_text'].replace('\\n', '')\n",
    "rint(cleaned_output)"
   ]
  },
  {
   "cell_type": "code",
   "execution_count": 20,
   "metadata": {},
   "outputs": [
    {
     "name": "stdout",
     "output_type": "stream",
     "text": [
      "('Hello Sir! I\\'m happy to help you understand the concept of \"Experimentation '\n",
      " 'to Adoption\" in the context of Artificial Intelligence (AI).From the '\n",
      " 'provided context, it appears that \"Experimentation to Adoption\" refers to '\n",
      " 'the process of transitioning from testing')\n"
     ]
    }
   ],
   "source": [
    "import pprint\n",
    "pprint.pprint(stuff_answer['output_text'].replace('\\n', ''))"
   ]
  },
  {
   "cell_type": "code",
   "execution_count": 2,
   "metadata": {},
   "outputs": [
    {
     "name": "stdout",
     "output_type": "stream",
     "text": [
      "{'output_text': 'your output text here'}\n"
     ]
    }
   ],
   "source": [
    "function process_query_with_chain_of_thought(user_query,previous_context): \n",
    "initial_response = rag_generate_response(user_query)\n",
    "thought_steps = develop_reasoning_steps(initial_response, previous_context)\n",
    "final_response = refine_response_based_on_thought_steps(thought_steps)\n",
    "return final_response"
   ]
  },
  {
   "cell_type": "code",
   "execution_count": null,
   "metadata": {},
   "outputs": [],
   "source": []
  }
 ],
 "metadata": {
  "kernelspec": {
   "display_name": "wasser_task",
   "language": "python",
   "name": "python3"
  },
  "language_info": {
   "codemirror_mode": {
    "name": "ipython",
    "version": 3
   },
   "file_extension": ".py",
   "mimetype": "text/x-python",
   "name": "python",
   "nbconvert_exporter": "python",
   "pygments_lexer": "ipython3",
   "version": "3.11.0"
  }
 },
 "nbformat": 4,
 "nbformat_minor": 2
}
