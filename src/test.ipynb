{
 "cells": [
  {
   "cell_type": "code",
   "execution_count": 1,
   "metadata": {},
   "outputs": [
    {
     "name": "stdout",
     "output_type": "stream",
     "text": [
      "Collecting requests\n",
      "  Using cached requests-2.32.3-py3-none-any.whl (64 kB)\n",
      "Collecting charset-normalizer<4,>=2\n",
      "  Using cached charset_normalizer-3.3.2-cp311-cp311-win_amd64.whl (99 kB)\n",
      "Collecting idna<4,>=2.5\n",
      "  Using cached idna-3.7-py3-none-any.whl (66 kB)\n",
      "Collecting urllib3<3,>=1.21.1\n",
      "  Using cached urllib3-2.2.1-py3-none-any.whl (121 kB)\n",
      "Collecting certifi>=2017.4.17\n",
      "  Downloading certifi-2024.6.2-py3-none-any.whl (164 kB)\n",
      "     -------------------------------------- 164.4/164.4 kB 4.8 MB/s eta 0:00:00\n",
      "Installing collected packages: urllib3, idna, charset-normalizer, certifi, requests\n",
      "Successfully installed certifi-2024.6.2 charset-normalizer-3.3.2 idna-3.7 requests-2.32.3 urllib3-2.2.1\n"
     ]
    },
    {
     "name": "stderr",
     "output_type": "stream",
     "text": [
      "\n",
      "[notice] A new release of pip available: 22.3 -> 24.0\n",
      "[notice] To update, run: python.exe -m pip install --upgrade pip\n"
     ]
    }
   ],
   "source": [
    "!pip install requests"
   ]
  },
  {
   "cell_type": "code",
   "execution_count": null,
   "metadata": {},
   "outputs": [],
   "source": [
    "import requests\n",
    "import time\n",
    "\n",
    "# WordPress REST API endpoint URL\n",
    "wp_api_url = 'https://elementor.com/blog/famous-wordpress-websites/'\n",
    "\n",
    "# Set API credentials (username and password)\n",
    "username = 'your_username'\n",
    "password = 'your_password'\n",
    "\n",
    "# Set the interval for fetching new content (in seconds)\n",
    "fetch_interval = 60  # 1 minute\n",
    "\n",
    "while True:\n",
    "    # Authenticate with WordPress REST API\n",
    "    auth_response = requests.post(f'{wp_api_url}/token', auth=(username, password))\n",
    "    if auth_response.status_code == 200:\n",
    "        token = auth_response.json()['token']\n",
    "    else:\n",
    "        print('Authentication failed')\n",
    "        break\n",
    "\n",
    "    # Set the API endpoint for fetching new content\n",
    "    endpoint = f'{wp_api_url}/posts?status=publish&_embed'\n",
    "\n",
    "    # Set the headers with the authentication token\n",
    "    headers = {'Authorization': f'Bearer {token}'}\n",
    "\n",
    "    # Fetch new content\n",
    "    response = requests.get(endpoint, headers=headers)\n",
    "\n",
    "    if response.status_code == 200:\n",
    "        data = response.json()\n",
    "        # Process the fetched data (e.g., save to a database or display on a dashboard)\n",
    "        print('Fetched new content:', data)\n",
    "    else:\n",
    "        print('Error fetching content:', response.status_code)\n",
    "\n",
    "    # Wait for the next fetch interval\n",
    "    time.sleep(fetch_interval)"
   ]
  }
 ],
 "metadata": {
  "kernelspec": {
   "display_name": "wasser_task",
   "language": "python",
   "name": "python3"
  },
  "language_info": {
   "codemirror_mode": {
    "name": "ipython",
    "version": 3
   },
   "file_extension": ".py",
   "mimetype": "text/x-python",
   "name": "python",
   "nbconvert_exporter": "python",
   "pygments_lexer": "ipython3",
   "version": "3.11.0"
  }
 },
 "nbformat": 4,
 "nbformat_minor": 2
}
